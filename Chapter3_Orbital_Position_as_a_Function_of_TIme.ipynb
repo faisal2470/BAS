{
 "cells": [
  {
   "cell_type": "code",
   "execution_count": 1,
   "id": "2cf12bdc",
   "metadata": {},
   "outputs": [],
   "source": [
    "import numpy as np\n",
    "import matplotlib.pyplot as plt\n",
    "import plotly.graph_objects as go\n",
    "from poliastro.bodies import Earth\n",
    "from scipy.integrate import solve_ivp\n",
    "plt.rcParams['font.family'] = 'Serif'\n",
    "import sympy as sp\n",
    "sp.init_printing()"
   ]
  },
  {
   "cell_type": "markdown",
   "id": "2170564a",
   "metadata": {},
   "source": [
    "# 3.1 Introduction\n",
    "\n",
    "Obtaining position as a function of time is easy for circular orbits. For elliptical, parabolic and hyperbolic paths, we are led to the different forms of Kepler's equation relating position aand time. These equations must be solved using numerical methods, which is shown in this chapter. Moreover, the different forms of Kepler's equations are combined into a single universal Kepler's equation by intoducing universal variables."
   ]
  },
  {
   "cell_type": "markdown",
   "id": "6766133c",
   "metadata": {},
   "source": [
    "# 3.2 Time Since Periapsis\n",
    "\n"
   ]
  },
  {
   "cell_type": "markdown",
   "id": "f4666f91",
   "metadata": {},
   "source": [
    "# 3.3 Circular Orbits"
   ]
  },
  {
   "cell_type": "markdown",
   "id": "16d74b0e",
   "metadata": {},
   "source": [
    "# 3.4 Elliptical Orbits"
   ]
  },
  {
   "cell_type": "markdown",
   "id": "3ab2a5d7",
   "metadata": {},
   "source": [
    "# 3.5 Parabolic Trajectories"
   ]
  },
  {
   "cell_type": "markdown",
   "id": "f6bb770e",
   "metadata": {},
   "source": [
    "# 3.6 Hyperbolic Trajectories"
   ]
  },
  {
   "cell_type": "markdown",
   "id": "14b403c8",
   "metadata": {},
   "source": [
    "# 3.7 Universal Variables"
   ]
  }
 ],
 "metadata": {
  "kernelspec": {
   "display_name": ".venv (3.10.11)",
   "language": "python",
   "name": "python3"
  },
  "language_info": {
   "codemirror_mode": {
    "name": "ipython",
    "version": 3
   },
   "file_extension": ".py",
   "mimetype": "text/x-python",
   "name": "python",
   "nbconvert_exporter": "python",
   "pygments_lexer": "ipython3",
   "version": "3.10.11"
  }
 },
 "nbformat": 4,
 "nbformat_minor": 5
}
