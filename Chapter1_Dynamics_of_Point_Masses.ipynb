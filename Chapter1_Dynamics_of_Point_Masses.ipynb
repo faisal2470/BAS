{
 "cells": [
  {
   "cell_type": "code",
   "execution_count": 1,
   "id": "20f3faec",
   "metadata": {},
   "outputs": [],
   "source": [
    "import numpy as np\n",
    "import matplotlib.pyplot as plt\n",
    "import plotly.graph_objects as go\n",
    "from poliastro.bodies import Earth\n",
    "from scipy.integrate import solve_ivp\n",
    "plt.rcParams['font.family'] = 'Serif'"
   ]
  },
  {
   "cell_type": "markdown",
   "id": "88153e63",
   "metadata": {},
   "source": [
    "# Chapter 1: Dynamics of Point Masses"
   ]
  },
  {
   "cell_type": "markdown",
   "id": "025599ac",
   "metadata": {},
   "source": [
    "## 1.1 Introduction\n",
    "\n",
    "This notebook covers the fundamental concepts of the dynamics of point masses, which is the foundation of orbital mechanics. We will explore kinematics, Newton's laws of motion and gravitation, and relative motion. Interactive code examples will help illustrate these concepts."
   ]
  },
  {
   "cell_type": "markdown",
   "id": "fbcfc6e0",
   "metadata": {},
   "source": [
    "## 1.2 Kinematics\n",
    "\n",
    "Kinematics is the branch of mechanics that describes the motion of objects without considering the forces that cause the motion. In this section, we will find the instantaneous centre and the radius of curvature of the path for a given instantaneous position vector $\\vec r(t)$, velocity vector $\\vec v(t)$ and the acceleration vector $\\vec a(t)$.\n",
    "\n",
    "We begin by finding the unit vector tangential to the path, given by\n",
    "$$\n",
    "    \\hat u_t = \\frac{\\vec v}{v}; \\ \\ \\ \\text{where, } \\ v = ||\\vec v||\n",
    "$$\n",
    "\n",
    "The tangential acceleration $a_t$ is then given by $a_t = \\vec a \\cdot \\hat u_t$. Using the relation $||\\vec a||^2 = a_t^2 + a_n^2$, we get the normal component of the accelration as\n",
    "$$\n",
    "    a_n = \\sqrt{||\\vec a||^2 - a_t^2}\n",
    "$$\n",
    "\n",
    "Then, using the relation $\\vec a = a_t\\hat u_t + a_n\\hat u_n$, we get the unit vector normal to the path and pointing towards the centre $\\hat u_n$ as\n",
    "$$\n",
    "    \\hat u_n = \\frac{1}{a_n}(\\vec a - a_t\\hat u_t)\n",
    "$$\n",
    "\n",
    "Moreover, the radius of curvature $\\varrho$ can be obtained from the normal acceleration $a_n$ using\n",
    "$$\n",
    "    \\varrho = \\frac{v^2}{a_n}\n",
    "$$\n",
    "\n",
    "Thus, we get the position of the centre of curvature $C$ with respect to the particle $P$ as $\\vec r_{C/P} = \\varrho\\hat u_n$. From this, we can get the position of $C$ in the cartesian coordinate system as \n",
    "$$\n",
    "    \\vec r_C = \\vec r + \\vec r_{C/P}\n",
    "$$\n",
    "\n",
    "Once the centre and the radius are computed, the osculating circular path as a function of $\\theta$ is given by\n",
    "$$\n",
    "    \\vec r(\\theta) = \\vec r_C + \\vec r_{P/C}(\\theta)\n",
    "$$\n",
    "\n",
    "where, $\\vec r_{P/C}(\\theta) = \\varrho\\sin\\theta\\hat u_t - \\varrho\\cos\\theta\\hat u_n$. The normal to this osculating circle (binormal unit vector) $\\hat u_b$ is then given by\n",
    "$$\n",
    "    \\hat u_b = \\hat u_t \\times \\hat u_n\n",
    "$$"
   ]
  },
  {
   "cell_type": "code",
   "execution_count": 2,
   "id": "de23f720",
   "metadata": {
    "execution": {
     "iopub.execute_input": "2025-09-16T21:51:04.530333Z",
     "iopub.status.busy": "2025-09-16T21:51:04.530127Z",
     "iopub.status.idle": "2025-09-16T21:51:07.772498Z",
     "shell.execute_reply": "2025-09-16T21:51:07.771921Z"
    }
   },
   "outputs": [],
   "source": [
    "# Position vector\n",
    "r = np.array([5, 5, 5])\n",
    "\n",
    "# Velocity vector\n",
    "v = np.array([0, 5, 0])\n",
    "\n",
    "# Acceleration vector\n",
    "a = np.array([-5/2, 0, -5/2])\n",
    "\n",
    "vMag = np.linalg.norm(v)\n",
    "uHat_t = v/vMag\n",
    "\n",
    "a_t = np.dot(a, uHat_t)\n",
    "aMag = np.linalg.norm(a)\n",
    "a_n = np.sqrt(aMag**2 - a_t**2)\n",
    "\n",
    "Rho = vMag**2/a_n\n",
    "uHat_n = (a - a_t*uHat_t)/a_n\n",
    "\n",
    "r_CP = Rho*uHat_n\n",
    "r_C = r + r_CP\n",
    "\n",
    "# Compute binormal unit vector\n",
    "uHat_b = np.cross(uHat_t, uHat_n)\n",
    "uHat_b = uHat_b / np.linalg.norm(uHat_b)  # Ensure unit vector\n",
    "\n",
    "theta = np.linspace(0, 2*np.pi, 100)\n",
    "r_PC = np.array([Rho*np.sin(theta)*uHat_t[0] - Rho*np.cos(theta)*uHat_n[0], \n",
    "                 Rho*np.sin(theta)*uHat_t[1] - Rho*np.cos(theta)*uHat_n[1],\n",
    "                 Rho*np.sin(theta)*uHat_t[2] - Rho*np.cos(theta)*uHat_n[2]]).T\n",
    "circle_x = r_C[0] + r_PC[:, 0]\n",
    "circle_y = r_C[1] + r_PC[:, 1]\n",
    "circle_z = r_C[2] + r_PC[:, 2]"
   ]
  },
  {
   "cell_type": "markdown",
   "id": "da673c5d",
   "metadata": {},
   "source": [
    "### Visualization of Kinematic Vectors"
   ]
  },
  {
   "cell_type": "code",
   "execution_count": 3,
   "id": "23decfda",
   "metadata": {
    "execution": {
     "iopub.execute_input": "2025-09-16T21:51:07.775157Z",
     "iopub.status.busy": "2025-09-16T21:51:07.774771Z",
     "iopub.status.idle": "2025-09-16T21:51:08.369124Z",
     "shell.execute_reply": "2025-09-16T21:51:08.368405Z"
    }
   },
   "outputs": [
    {
     "data": {
      "application/vnd.plotly.v1+json": {
       "config": {
        "plotlyServerURL": "https://plot.ly"
       },
       "data": [
        {
         "colorscale": [
          [
           0,
           "blue"
          ],
          [
           1,
           "blue"
          ]
         ],
         "name": "Position (r)",
         "showscale": false,
         "sizemode": "absolute",
         "sizeref": 0.5,
         "type": "cone",
         "u": [
          5
         ],
         "v": [
          5
         ],
         "w": [
          5
         ],
         "x": [
          5
         ],
         "y": [
          5
         ],
         "z": [
          5
         ]
        },
        {
         "colorscale": [
          [
           0,
           "red"
          ],
          [
           1,
           "red"
          ]
         ],
         "name": "Velocity (v)",
         "showscale": false,
         "sizemode": "absolute",
         "sizeref": 0.5,
         "type": "cone",
         "u": [
          0
         ],
         "v": [
          5
         ],
         "w": [
          0
         ],
         "x": [
          5
         ],
         "y": [
          10
         ],
         "z": [
          5
         ]
        },
        {
         "colorscale": [
          [
           0,
           "green"
          ],
          [
           1,
           "green"
          ]
         ],
         "name": "Acceleration (a)",
         "showscale": false,
         "sizemode": "absolute",
         "sizeref": 0.5,
         "type": "cone",
         "u": [
          -2.5
         ],
         "v": [
          0
         ],
         "w": [
          -2.5
         ],
         "x": [
          2.5
         ],
         "y": [
          5
         ],
         "z": [
          2.5
         ]
        },
        {
         "colorscale": [
          [
           0,
           "black"
          ],
          [
           1,
           "black"
          ]
         ],
         "name": "Acceleration (a)",
         "showscale": false,
         "sizemode": "absolute",
         "sizeref": 0.5,
         "type": "cone",
         "u": [
          8.881784197001252e-16
         ],
         "v": [
          5
         ],
         "w": [
          8.881784197001252e-16
         ],
         "x": [
          8.881784197001252e-16
         ],
         "y": [
          5
         ],
         "z": [
          8.881784197001252e-16
         ]
        },
        {
         "line": {
          "color": "blue",
          "width": 4
         },
         "mode": "lines",
         "name": "r",
         "type": "scatter3d",
         "x": [
          0,
          5
         ],
         "y": [
          0,
          5
         ],
         "z": [
          0,
          5
         ]
        },
        {
         "line": {
          "color": "red",
          "width": 4
         },
         "mode": "lines",
         "name": "v",
         "type": "scatter3d",
         "x": [
          5,
          5
         ],
         "y": [
          5,
          10
         ],
         "z": [
          5,
          5
         ]
        },
        {
         "line": {
          "color": "green",
          "width": 4
         },
         "mode": "lines",
         "name": "a",
         "type": "scatter3d",
         "x": [
          5,
          2.5
         ],
         "y": [
          5,
          5
         ],
         "z": [
          5,
          2.5
         ]
        },
        {
         "line": {
          "color": "black",
          "width": 2
         },
         "mode": "lines",
         "name": "r_c",
         "type": "scatter3d",
         "x": [
          0,
          8.881784197001252e-16
         ],
         "y": [
          0,
          5
         ],
         "z": [
          0,
          8.881784197001252e-16
         ]
        },
        {
         "line": {
          "color": "black",
          "width": 4
         },
         "mode": "lines",
         "name": "Osculating Circle",
         "type": "scatter3d",
         "x": [
          5,
          4.989933382359422,
          4.959774064153977,
          4.909643486313533,
          4.839743506981781,
          4.7503555887047275,
          4.641839665080363,
          4.514632691433106,
          4.369246885348924,
          4.206267664155906,
          4.026351287655293,
          3.8302222155948904,
          3.6186701905253513,
          3.3925470577856616,
          3.152763335422613,
          2.9002845478559913,
          2.6361273380525123,
          2.361355373863414,
          2.0770750650094327,
          1.78443110795936,
          1.484601876641375,
          1.178794677547137,
          0.8682408883346528,
          0.5541909995050562,
          0.23790957911871177,
          -0.07932981917403924,
          -0.3962497842839417,
          -0.7115741913664251,
          -1.0240333403259525,
          -1.332369068450174,
          -1.6353398165871071,
          -1.931725628465642,
          -2.2203330630288693,
          -2.5,
          -2.76960031933055,
          -3.0280484356883326,
          -3.2743036697264234,
          -3.5073744385316057,
          -3.7263222483787715,
          -3.9302654737139355,
          -4.118382907149162,
          -4.289917066174884,
          -4.444177243274615,
          -4.5805422871603465,
          -4.69846310392954,
          -4.797464868072485,
          -4.877148934427034,
          -4.937194443381969,
          -4.977359612865421,
          -4.997482711915923,
          -4.997482711915923,
          -4.977359612865421,
          -4.937194443381969,
          -4.877148934427034,
          -4.797464868072485,
          -4.69846310392954,
          -4.5805422871603465,
          -4.444177243274615,
          -4.289917066174883,
          -4.118382907149162,
          -3.930265473713935,
          -3.7263222483787724,
          -3.507374438531605,
          -3.2743036697264247,
          -3.0280484356883313,
          -2.769600319330551,
          -2.499999999999997,
          -2.2203330630288685,
          -1.931725628465642,
          -1.6353398165871083,
          -1.3323690684501721,
          -1.0240333403259516,
          -0.7115741913664251,
          -0.396249784283943,
          -0.07932981917403714,
          0.23790957911871274,
          0.5541909995050551,
          0.8682408883346506,
          1.178794677547138,
          1.484601876641375,
          1.7844311079593589,
          2.0770750650094345,
          2.3613553738634145,
          2.6361273380525123,
          2.90028454785599,
          3.1527633354226143,
          3.3925470577856616,
          3.6186701905253504,
          3.830222215594889,
          4.026351287655294,
          4.206267664155906,
          4.369246885348924,
          4.514632691433105,
          4.641839665080363,
          4.7503555887047275,
          4.839743506981781,
          4.909643486313534,
          4.959774064153977,
          4.989933382359422,
          5
         ],
         "y": [
          5,
          5.448474836785875,
          5.895143823690413,
          6.338208382352384,
          6.775884448170932,
          7.206409654104046,
          7.628050427098621,
          8.039108968577292,
          8.437930090874076,
          8.822907882090913,
          9.192492172538087,
          9.545194776720436,
          9.879595485735107,
          10.194347785951544,
          10.488184280946637,
          10.759921794862803,
          11.008466136639562,
          11.232816505934757,
          11.4320695229943,
          11.605422866243604,
          11.752178502953385,
          11.871745499971102,
          11.96364240320019,
          12.027499176245783,
          12.063058690420682,
          12.070177760111807,
          12.04882771933815,
          11.999094537178536,
          11.92117847160451,
          11.815393263112146,
          11.682164871399813,
          11.522029760178807,
          11.335632737023325,
          11.123724356957943,
          10.88715790023745,
          10.626885936488392,
          10.343956489047429,
          10.039508814941211,
          9.714768817500463,
          9.371044110079914,
          9.009718750760857,
          8.632247669237731,
          8.240150808329767,
          7.835007003707696,
          7.418447626479754,
          6.992150014235993,
          6.557830717001842,
          6.117238585296965,
          5.672147728131495,
          5.224350369295195,
          4.775649630704804,
          4.327852271868504,
          3.882761414703033,
          3.44216928299816,
          3.0078499857640053,
          2.581552373520248,
          2.1649929962923022,
          1.7598491916702335,
          1.3677523307622685,
          0.9902812492391444,
          0.6289558899200847,
          0.28523118249953683,
          -0.03950881494121372,
          -0.3439564890474278,
          -0.6268859364883941,
          -0.8871579002374483,
          -1.123724356957946,
          -1.3356327370233254,
          -1.5220297601788069,
          -1.682164871399812,
          -1.8153932631121457,
          -1.9211784716045095,
          -1.9990945371785358,
          -2.0488277193381483,
          -2.0701777601118083,
          -2.0630586904206814,
          -2.027499176245783,
          -1.963642403200189,
          -1.8717454999711007,
          -1.7521785029533845,
          -1.6054228662436039,
          -1.4320695229942988,
          -1.232816505934756,
          -1.0084661366395622,
          -0.7599217948628043,
          -0.48818428094663613,
          -0.19434778595154256,
          0.12040451426489263,
          0.4548052232795614,
          0.8075078274619152,
          1.177092117909087,
          1.5620699091259223,
          1.960891031422705,
          2.371949572901381,
          2.7935903458959546,
          3.2241155518290667,
          3.6617916176476193,
          4.104856176309589,
          4.551525163214125,
          4.999999999999998
         ],
         "z": [
          5,
          4.989933382359422,
          4.959774064153977,
          4.909643486313533,
          4.839743506981781,
          4.7503555887047275,
          4.641839665080363,
          4.514632691433106,
          4.369246885348924,
          4.206267664155906,
          4.026351287655293,
          3.8302222155948904,
          3.6186701905253513,
          3.3925470577856616,
          3.152763335422613,
          2.9002845478559913,
          2.6361273380525123,
          2.361355373863414,
          2.0770750650094327,
          1.78443110795936,
          1.484601876641375,
          1.178794677547137,
          0.8682408883346528,
          0.5541909995050562,
          0.23790957911871177,
          -0.07932981917403924,
          -0.3962497842839417,
          -0.7115741913664251,
          -1.0240333403259525,
          -1.332369068450174,
          -1.6353398165871071,
          -1.931725628465642,
          -2.2203330630288693,
          -2.5,
          -2.76960031933055,
          -3.0280484356883326,
          -3.2743036697264234,
          -3.5073744385316057,
          -3.7263222483787715,
          -3.9302654737139355,
          -4.118382907149162,
          -4.289917066174884,
          -4.444177243274615,
          -4.5805422871603465,
          -4.69846310392954,
          -4.797464868072485,
          -4.877148934427034,
          -4.937194443381969,
          -4.977359612865421,
          -4.997482711915923,
          -4.997482711915923,
          -4.977359612865421,
          -4.937194443381969,
          -4.877148934427034,
          -4.797464868072485,
          -4.69846310392954,
          -4.5805422871603465,
          -4.444177243274615,
          -4.289917066174883,
          -4.118382907149162,
          -3.930265473713935,
          -3.7263222483787724,
          -3.507374438531605,
          -3.2743036697264247,
          -3.0280484356883313,
          -2.769600319330551,
          -2.499999999999997,
          -2.2203330630288685,
          -1.931725628465642,
          -1.6353398165871083,
          -1.3323690684501721,
          -1.0240333403259516,
          -0.7115741913664251,
          -0.396249784283943,
          -0.07932981917403714,
          0.23790957911871274,
          0.5541909995050551,
          0.8682408883346506,
          1.178794677547138,
          1.484601876641375,
          1.7844311079593589,
          2.0770750650094345,
          2.3613553738634145,
          2.6361273380525123,
          2.90028454785599,
          3.1527633354226143,
          3.3925470577856616,
          3.6186701905253504,
          3.830222215594889,
          4.026351287655294,
          4.206267664155906,
          4.369246885348924,
          4.514632691433105,
          4.641839665080363,
          4.7503555887047275,
          4.839743506981781,
          4.909643486313534,
          4.959774064153977,
          4.989933382359422,
          5
         ]
        }
       ],
       "layout": {
        "height": 800,
        "scene": {
         "xaxis": {
          "title": {
           "text": "X"
          }
         },
         "yaxis": {
          "title": {
           "text": "Y"
          }
         },
         "zaxis": {
          "title": {
           "text": "Z"
          }
         }
        },
        "showlegend": true,
        "template": {
         "data": {
          "bar": [
           {
            "error_x": {
             "color": "#2a3f5f"
            },
            "error_y": {
             "color": "#2a3f5f"
            },
            "marker": {
             "line": {
              "color": "#E5ECF6",
              "width": 0.5
             },
             "pattern": {
              "fillmode": "overlay",
              "size": 10,
              "solidity": 0.2
             }
            },
            "type": "bar"
           }
          ],
          "barpolar": [
           {
            "marker": {
             "line": {
              "color": "#E5ECF6",
              "width": 0.5
             },
             "pattern": {
              "fillmode": "overlay",
              "size": 10,
              "solidity": 0.2
             }
            },
            "type": "barpolar"
           }
          ],
          "carpet": [
           {
            "aaxis": {
             "endlinecolor": "#2a3f5f",
             "gridcolor": "white",
             "linecolor": "white",
             "minorgridcolor": "white",
             "startlinecolor": "#2a3f5f"
            },
            "baxis": {
             "endlinecolor": "#2a3f5f",
             "gridcolor": "white",
             "linecolor": "white",
             "minorgridcolor": "white",
             "startlinecolor": "#2a3f5f"
            },
            "type": "carpet"
           }
          ],
          "choropleth": [
           {
            "colorbar": {
             "outlinewidth": 0,
             "ticks": ""
            },
            "type": "choropleth"
           }
          ],
          "contour": [
           {
            "colorbar": {
             "outlinewidth": 0,
             "ticks": ""
            },
            "colorscale": [
             [
              0,
              "#0d0887"
             ],
             [
              0.1111111111111111,
              "#46039f"
             ],
             [
              0.2222222222222222,
              "#7201a8"
             ],
             [
              0.3333333333333333,
              "#9c179e"
             ],
             [
              0.4444444444444444,
              "#bd3786"
             ],
             [
              0.5555555555555556,
              "#d8576b"
             ],
             [
              0.6666666666666666,
              "#ed7953"
             ],
             [
              0.7777777777777778,
              "#fb9f3a"
             ],
             [
              0.8888888888888888,
              "#fdca26"
             ],
             [
              1,
              "#f0f921"
             ]
            ],
            "type": "contour"
           }
          ],
          "contourcarpet": [
           {
            "colorbar": {
             "outlinewidth": 0,
             "ticks": ""
            },
            "type": "contourcarpet"
           }
          ],
          "heatmap": [
           {
            "colorbar": {
             "outlinewidth": 0,
             "ticks": ""
            },
            "colorscale": [
             [
              0,
              "#0d0887"
             ],
             [
              0.1111111111111111,
              "#46039f"
             ],
             [
              0.2222222222222222,
              "#7201a8"
             ],
             [
              0.3333333333333333,
              "#9c179e"
             ],
             [
              0.4444444444444444,
              "#bd3786"
             ],
             [
              0.5555555555555556,
              "#d8576b"
             ],
             [
              0.6666666666666666,
              "#ed7953"
             ],
             [
              0.7777777777777778,
              "#fb9f3a"
             ],
             [
              0.8888888888888888,
              "#fdca26"
             ],
             [
              1,
              "#f0f921"
             ]
            ],
            "type": "heatmap"
           }
          ],
          "heatmapgl": [
           {
            "colorbar": {
             "outlinewidth": 0,
             "ticks": ""
            },
            "colorscale": [
             [
              0,
              "#0d0887"
             ],
             [
              0.1111111111111111,
              "#46039f"
             ],
             [
              0.2222222222222222,
              "#7201a8"
             ],
             [
              0.3333333333333333,
              "#9c179e"
             ],
             [
              0.4444444444444444,
              "#bd3786"
             ],
             [
              0.5555555555555556,
              "#d8576b"
             ],
             [
              0.6666666666666666,
              "#ed7953"
             ],
             [
              0.7777777777777778,
              "#fb9f3a"
             ],
             [
              0.8888888888888888,
              "#fdca26"
             ],
             [
              1,
              "#f0f921"
             ]
            ],
            "type": "heatmapgl"
           }
          ],
          "histogram": [
           {
            "marker": {
             "pattern": {
              "fillmode": "overlay",
              "size": 10,
              "solidity": 0.2
             }
            },
            "type": "histogram"
           }
          ],
          "histogram2d": [
           {
            "colorbar": {
             "outlinewidth": 0,
             "ticks": ""
            },
            "colorscale": [
             [
              0,
              "#0d0887"
             ],
             [
              0.1111111111111111,
              "#46039f"
             ],
             [
              0.2222222222222222,
              "#7201a8"
             ],
             [
              0.3333333333333333,
              "#9c179e"
             ],
             [
              0.4444444444444444,
              "#bd3786"
             ],
             [
              0.5555555555555556,
              "#d8576b"
             ],
             [
              0.6666666666666666,
              "#ed7953"
             ],
             [
              0.7777777777777778,
              "#fb9f3a"
             ],
             [
              0.8888888888888888,
              "#fdca26"
             ],
             [
              1,
              "#f0f921"
             ]
            ],
            "type": "histogram2d"
           }
          ],
          "histogram2dcontour": [
           {
            "colorbar": {
             "outlinewidth": 0,
             "ticks": ""
            },
            "colorscale": [
             [
              0,
              "#0d0887"
             ],
             [
              0.1111111111111111,
              "#46039f"
             ],
             [
              0.2222222222222222,
              "#7201a8"
             ],
             [
              0.3333333333333333,
              "#9c179e"
             ],
             [
              0.4444444444444444,
              "#bd3786"
             ],
             [
              0.5555555555555556,
              "#d8576b"
             ],
             [
              0.6666666666666666,
              "#ed7953"
             ],
             [
              0.7777777777777778,
              "#fb9f3a"
             ],
             [
              0.8888888888888888,
              "#fdca26"
             ],
             [
              1,
              "#f0f921"
             ]
            ],
            "type": "histogram2dcontour"
           }
          ],
          "mesh3d": [
           {
            "colorbar": {
             "outlinewidth": 0,
             "ticks": ""
            },
            "type": "mesh3d"
           }
          ],
          "parcoords": [
           {
            "line": {
             "colorbar": {
              "outlinewidth": 0,
              "ticks": ""
             }
            },
            "type": "parcoords"
           }
          ],
          "pie": [
           {
            "automargin": true,
            "type": "pie"
           }
          ],
          "scatter": [
           {
            "fillpattern": {
             "fillmode": "overlay",
             "size": 10,
             "solidity": 0.2
            },
            "type": "scatter"
           }
          ],
          "scatter3d": [
           {
            "line": {
             "colorbar": {
              "outlinewidth": 0,
              "ticks": ""
             }
            },
            "marker": {
             "colorbar": {
              "outlinewidth": 0,
              "ticks": ""
             }
            },
            "type": "scatter3d"
           }
          ],
          "scattercarpet": [
           {
            "marker": {
             "colorbar": {
              "outlinewidth": 0,
              "ticks": ""
             }
            },
            "type": "scattercarpet"
           }
          ],
          "scattergeo": [
           {
            "marker": {
             "colorbar": {
              "outlinewidth": 0,
              "ticks": ""
             }
            },
            "type": "scattergeo"
           }
          ],
          "scattergl": [
           {
            "marker": {
             "colorbar": {
              "outlinewidth": 0,
              "ticks": ""
             }
            },
            "type": "scattergl"
           }
          ],
          "scattermapbox": [
           {
            "marker": {
             "colorbar": {
              "outlinewidth": 0,
              "ticks": ""
             }
            },
            "type": "scattermapbox"
           }
          ],
          "scatterpolar": [
           {
            "marker": {
             "colorbar": {
              "outlinewidth": 0,
              "ticks": ""
             }
            },
            "type": "scatterpolar"
           }
          ],
          "scatterpolargl": [
           {
            "marker": {
             "colorbar": {
              "outlinewidth": 0,
              "ticks": ""
             }
            },
            "type": "scatterpolargl"
           }
          ],
          "scatterternary": [
           {
            "marker": {
             "colorbar": {
              "outlinewidth": 0,
              "ticks": ""
             }
            },
            "type": "scatterternary"
           }
          ],
          "surface": [
           {
            "colorbar": {
             "outlinewidth": 0,
             "ticks": ""
            },
            "colorscale": [
             [
              0,
              "#0d0887"
             ],
             [
              0.1111111111111111,
              "#46039f"
             ],
             [
              0.2222222222222222,
              "#7201a8"
             ],
             [
              0.3333333333333333,
              "#9c179e"
             ],
             [
              0.4444444444444444,
              "#bd3786"
             ],
             [
              0.5555555555555556,
              "#d8576b"
             ],
             [
              0.6666666666666666,
              "#ed7953"
             ],
             [
              0.7777777777777778,
              "#fb9f3a"
             ],
             [
              0.8888888888888888,
              "#fdca26"
             ],
             [
              1,
              "#f0f921"
             ]
            ],
            "type": "surface"
           }
          ],
          "table": [
           {
            "cells": {
             "fill": {
              "color": "#EBF0F8"
             },
             "line": {
              "color": "white"
             }
            },
            "header": {
             "fill": {
              "color": "#C8D4E3"
             },
             "line": {
              "color": "white"
             }
            },
            "type": "table"
           }
          ]
         },
         "layout": {
          "annotationdefaults": {
           "arrowcolor": "#2a3f5f",
           "arrowhead": 0,
           "arrowwidth": 1
          },
          "autotypenumbers": "strict",
          "coloraxis": {
           "colorbar": {
            "outlinewidth": 0,
            "ticks": ""
           }
          },
          "colorscale": {
           "diverging": [
            [
             0,
             "#8e0152"
            ],
            [
             0.1,
             "#c51b7d"
            ],
            [
             0.2,
             "#de77ae"
            ],
            [
             0.3,
             "#f1b6da"
            ],
            [
             0.4,
             "#fde0ef"
            ],
            [
             0.5,
             "#f7f7f7"
            ],
            [
             0.6,
             "#e6f5d0"
            ],
            [
             0.7,
             "#b8e186"
            ],
            [
             0.8,
             "#7fbc41"
            ],
            [
             0.9,
             "#4d9221"
            ],
            [
             1,
             "#276419"
            ]
           ],
           "sequential": [
            [
             0,
             "#0d0887"
            ],
            [
             0.1111111111111111,
             "#46039f"
            ],
            [
             0.2222222222222222,
             "#7201a8"
            ],
            [
             0.3333333333333333,
             "#9c179e"
            ],
            [
             0.4444444444444444,
             "#bd3786"
            ],
            [
             0.5555555555555556,
             "#d8576b"
            ],
            [
             0.6666666666666666,
             "#ed7953"
            ],
            [
             0.7777777777777778,
             "#fb9f3a"
            ],
            [
             0.8888888888888888,
             "#fdca26"
            ],
            [
             1,
             "#f0f921"
            ]
           ],
           "sequentialminus": [
            [
             0,
             "#0d0887"
            ],
            [
             0.1111111111111111,
             "#46039f"
            ],
            [
             0.2222222222222222,
             "#7201a8"
            ],
            [
             0.3333333333333333,
             "#9c179e"
            ],
            [
             0.4444444444444444,
             "#bd3786"
            ],
            [
             0.5555555555555556,
             "#d8576b"
            ],
            [
             0.6666666666666666,
             "#ed7953"
            ],
            [
             0.7777777777777778,
             "#fb9f3a"
            ],
            [
             0.8888888888888888,
             "#fdca26"
            ],
            [
             1,
             "#f0f921"
            ]
           ]
          },
          "colorway": [
           "#636efa",
           "#EF553B",
           "#00cc96",
           "#ab63fa",
           "#FFA15A",
           "#19d3f3",
           "#FF6692",
           "#B6E880",
           "#FF97FF",
           "#FECB52"
          ],
          "font": {
           "color": "#2a3f5f"
          },
          "geo": {
           "bgcolor": "white",
           "lakecolor": "white",
           "landcolor": "#E5ECF6",
           "showlakes": true,
           "showland": true,
           "subunitcolor": "white"
          },
          "hoverlabel": {
           "align": "left"
          },
          "hovermode": "closest",
          "mapbox": {
           "style": "light"
          },
          "paper_bgcolor": "white",
          "plot_bgcolor": "#E5ECF6",
          "polar": {
           "angularaxis": {
            "gridcolor": "white",
            "linecolor": "white",
            "ticks": ""
           },
           "bgcolor": "#E5ECF6",
           "radialaxis": {
            "gridcolor": "white",
            "linecolor": "white",
            "ticks": ""
           }
          },
          "scene": {
           "xaxis": {
            "backgroundcolor": "#E5ECF6",
            "gridcolor": "white",
            "gridwidth": 2,
            "linecolor": "white",
            "showbackground": true,
            "ticks": "",
            "zerolinecolor": "white"
           },
           "yaxis": {
            "backgroundcolor": "#E5ECF6",
            "gridcolor": "white",
            "gridwidth": 2,
            "linecolor": "white",
            "showbackground": true,
            "ticks": "",
            "zerolinecolor": "white"
           },
           "zaxis": {
            "backgroundcolor": "#E5ECF6",
            "gridcolor": "white",
            "gridwidth": 2,
            "linecolor": "white",
            "showbackground": true,
            "ticks": "",
            "zerolinecolor": "white"
           }
          },
          "shapedefaults": {
           "line": {
            "color": "#2a3f5f"
           }
          },
          "ternary": {
           "aaxis": {
            "gridcolor": "white",
            "linecolor": "white",
            "ticks": ""
           },
           "baxis": {
            "gridcolor": "white",
            "linecolor": "white",
            "ticks": ""
           },
           "bgcolor": "#E5ECF6",
           "caxis": {
            "gridcolor": "white",
            "linecolor": "white",
            "ticks": ""
           }
          },
          "title": {
           "x": 0.05
          },
          "xaxis": {
           "automargin": true,
           "gridcolor": "white",
           "linecolor": "white",
           "ticks": "",
           "title": {
            "standoff": 15
           },
           "zerolinecolor": "white",
           "zerolinewidth": 2
          },
          "yaxis": {
           "automargin": true,
           "gridcolor": "white",
           "linecolor": "white",
           "ticks": "",
           "title": {
            "standoff": 15
           },
           "zerolinecolor": "white",
           "zerolinewidth": 2
          }
         }
        },
        "title": {
         "text": "Center = [0. 5. 0.], Radius = 7.07"
        },
        "width": 800
       }
      }
     },
     "metadata": {},
     "output_type": "display_data"
    }
   ],
   "source": [
    "# Create quiver plot data\n",
    "# Vector r: from origin (0,0,0) to r\n",
    "quiver_r = go.Cone(\n",
    "    x=[r[0]], y=[r[1]], z=[r[2]],\n",
    "    u=[r[0]], v=[r[1]], w=[r[2]],\n",
    "    colorscale=[[0, 'blue'], [1, 'blue']],\n",
    "    sizemode=\"absolute\",\n",
    "    sizeref=0.5,\n",
    "    name='Position (r)',\n",
    "    showscale=False\n",
    ")\n",
    "\n",
    "# Vector v: from r to r+v\n",
    "quiver_v = go.Cone(\n",
    "    x=[r[0] + v[0]], y=[r[1] + v[1]], z=[r[2] + v[2]],\n",
    "    u=[v[0]], v=[v[1]], w=[v[2]],\n",
    "    colorscale=[[0, 'red'], [1, 'red']],\n",
    "    sizemode=\"absolute\",\n",
    "    sizeref=0.5,\n",
    "    name='Velocity (v)',\n",
    "    showscale=False\n",
    ")\n",
    "\n",
    "# Vector a: from r to r+a\n",
    "quiver_a = go.Cone(\n",
    "    x=[r[0] + a[0]], y=[r[1] + a[1]], z=[r[2] + a[2]],\n",
    "    u=[a[0]], v=[a[1]], w=[a[2]],\n",
    "    colorscale=[[0, 'green'], [1, 'green']],\n",
    "    sizemode=\"absolute\",\n",
    "    sizeref=0.5,\n",
    "    name='Acceleration (a)',\n",
    "    showscale=False\n",
    ")\n",
    "\n",
    "quiver_c = go.Cone(\n",
    "    x=[r_C[0]], y=[r_C[1]], z=[r_C[2]],\n",
    "    u=[r_C[0]], v=[r_C[1]], w=[r_C[2]],\n",
    "    colorscale=[[0, 'black'], [1, 'black']],\n",
    "    sizemode=\"absolute\",\n",
    "    sizeref=0.5,\n",
    "    name='Acceleration (a)',\n",
    "    showscale=False\n",
    ")\n",
    "\n",
    "# Create lines to show vector paths\n",
    "# Line for r: from origin to r\n",
    "line_r = go.Scatter3d(\n",
    "    x=[0, r[0]], y=[0, r[1]], z=[0, r[2]],\n",
    "    mode='lines',\n",
    "    line=dict(color='blue', width=4),\n",
    "    name='r'\n",
    ")\n",
    "\n",
    "# Line for v: from r to r+v\n",
    "line_v = go.Scatter3d(\n",
    "    x=[r[0], r[0]+v[0]], y=[r[1], r[1]+v[1]], z=[r[2], r[2]+v[2]],\n",
    "    mode='lines',\n",
    "    line=dict(color='red', width=4),\n",
    "    name='v'\n",
    ")\n",
    "\n",
    "# Line for a: from r to r+a\n",
    "line_a = go.Scatter3d(\n",
    "    x=[r[0], r[0]+a[0]], y=[r[1], r[1]+a[1]], z=[r[2], r[2]+a[2]],\n",
    "    mode='lines',\n",
    "    line=dict(color='green', width=4),\n",
    "    name='a'\n",
    ")\n",
    "\n",
    "line_c = go.Scatter3d(\n",
    "    x=[0, r_C[0]], y=[0, r_C[1]], z=[0, r_C[2]],\n",
    "    mode='lines',\n",
    "    line=dict(color='black', width=2),\n",
    "    name='r_c'\n",
    ")\n",
    "\n",
    "\n",
    "circle = go.Scatter3d(\n",
    "    x = circle_x, y = circle_y, z = circle_z,\n",
    "    mode='lines',\n",
    "    line=dict(color='black', width=4),\n",
    "    name='Osculating Circle'\n",
    ")\n",
    "\n",
    "# Combine all traces\n",
    "fig = go.Figure(data=[quiver_r, quiver_v, quiver_a, quiver_c, line_r, line_v, line_a, line_c, circle])\n",
    "\n",
    "# Update layout for better visualization\n",
    "fig.update_layout(\n",
    "    title=f'Center = {r_C.round(2)}, Radius = {Rho.round(2)}',\n",
    "    scene=dict(\n",
    "        xaxis_title='X',\n",
    "        yaxis_title='Y',\n",
    "        zaxis_title='Z',\n",
    "    ),\n",
    "    showlegend=True,\n",
    "    width=800,\n",
    "    height=800\n",
    ")"
   ]
  },
  {
   "cell_type": "markdown",
   "id": "79db3165",
   "metadata": {},
   "source": [
    "## 1.3 Mass, Force, and Newton's Law of Gravitation\n",
    "\n",
    "Newton's Law of Universal Gravitation states that every particle in the universe attracts every other particle with a force that is directly proportional to the product of their masses and inversely proportional to the square of the distance between their centers.\n",
    "$$\n",
    "    F_g = \\frac{Gm_1m_2}{r^2}\n",
    "$$\n",
    "\n",
    "The weight $W$ of a small body with a mass $m$ much smaller than the Earth's mass $M$ is given by\n",
    "$$\n",
    "    W = \\frac{GMm}{r^2} = mg\n",
    "$$\n",
    "\n",
    "where, \n",
    "$$\n",
    "    g = \\frac{GM}{r^2}\n",
    "$$\n",
    "\n",
    "For $r = R_E = 6378$ $km$, the value of the gravitational acceleration $g$ is given by $g_o = 9.807$ $m/s^2$. The general acceleration $g$ can be written in terms of $g_o$, $R_E$ and height from the surface $h$ by\n",
    "$$\n",
    "    g = g_o\\frac{R_E^2}{(R_E + h)^2} = \\frac{g_o}{(1 + h/R_E)^2}\n",
    "$$\n"
   ]
  },
  {
   "cell_type": "code",
   "execution_count": null,
   "id": "98a368db",
   "metadata": {},
   "outputs": [],
   "source": []
  },
  {
   "cell_type": "code",
   "execution_count": 4,
   "id": "129b4c8b",
   "metadata": {
    "execution": {
     "iopub.execute_input": "2025-09-16T21:51:08.371237Z",
     "iopub.status.busy": "2025-09-16T21:51:08.371037Z",
     "iopub.status.idle": "2025-09-16T21:51:08.375017Z",
     "shell.execute_reply": "2025-09-16T21:51:08.374369Z"
    }
   },
   "outputs": [],
   "source": [
    "# Gravitational constant\n",
    "G = 6.67430e-11  # m^3 kg^-1 s^-2\n",
    "\n",
    "# Mass of two bodies\n",
    "M = Earth.mass.value  # Mass of Earth in kg\n",
    "R_E = Earth.R.value\n",
    "g0 = G*M/R_E**2\n",
    "\n",
    "h = np.linspace(0, 1000, 2000)\n",
    "g = g0 / (1 + h*1000/R_E)**2"
   ]
  },
  {
   "cell_type": "markdown",
   "id": "e5375b1b",
   "metadata": {},
   "source": [
    "### Visualizing Gravitational Force vs. Distance"
   ]
  },
  {
   "cell_type": "code",
   "execution_count": 5,
   "id": "3c376e90",
   "metadata": {
    "execution": {
     "iopub.execute_input": "2025-09-16T21:51:08.376659Z",
     "iopub.status.busy": "2025-09-16T21:51:08.376466Z",
     "iopub.status.idle": "2025-09-16T21:51:08.512491Z",
     "shell.execute_reply": "2025-09-16T21:51:08.511868Z"
    }
   },
   "outputs": [
    {
     "data": {
      "image/png": "[encoded data removed]",
      "text/plain": [
       "<Figure size 700x350 with 1 Axes>"
      ]
     },
     "metadata": {},
     "output_type": "display_data"
    }
   ],
   "source": [
    "plt.figure(figsize=(7, 3.5))\n",
    "plt.plot(h, g/g0, 'k', lw=1)\n",
    "plt.xlabel('h [km]', size=12.5)\n",
    "plt.xticks(size=12)\n",
    "plt.yticks(size=12)\n",
    "plt.ylabel('g/g$_o$', size=14)\n",
    "plt.grid(ls='--', alpha=0.6)\n",
    "plt.ylim(0, 1.01)\n",
    "plt.xlim(0, 1000)\n",
    "plt.tight_layout()"
   ]
  },
  {
   "cell_type": "markdown",
   "id": "23f6948a",
   "metadata": {},
   "source": [
    "## 1.4 Newton's Law of Motion\n",
    "\n",
    "Newton's Second Law of Motion states that the acceleration of an object is directly proportional to the net force acting on it and inversely proportional to its mass. In an inertial reference frame with a net force on a point mass $(\\vec F_{\\text{net}})$, the second law can be given as\n",
    "\n",
    "$$\n",
    "    \\vec F_{\\text{net}} = m\\vec a\n",
    "$$\n",
    "where $\\vec a$ is the absolute acceleration in the inertial frame of reference. \n",
    "\n",
    "The total impulse $\\vec I$ due to this net force over a time period $\\Delta t$ is given by,\n",
    "$$\n",
    "    \\vec I = \\int_{t_1}^{t_2}\\vec F_{\\text{net}}dt\n",
    "$$\n",
    "For a constant mass over the time duration $\\Delta t$,\n",
    "$$\n",
    "    \\vec I = m\\int_{t_1}^{t_2}\\frac{d\\vec v}{dt}dt = m(\\vec v_2 - \\vec v_1) = m\\Delta \\vec v\n",
    "$$\n",
    "\n",
    "If the net force remains constant for the period $\\Delta t$, $\\vec I$ can be equated to $\\vec F_{\\text{net}}\\Delta t$, giving\n",
    "$$\n",
    "    \\vec F_{\\text{net}} = m\\frac{\\Delta \\vec v}{\\Delta t}\n",
    "$$\n",
    "\n",
    "This $\\vec F_{\\text{net}}$ also induces a net moment about a point $O$ $(\\vec M_{O\\text{net}})$, given by\n",
    "$$\n",
    "    \\vec M_{O\\text{net}} = \\vec r\\times\\vec F_{\\text{net}} = \\vec r\\times m\\vec a = \\vec r\\times m\\frac{d\\vec v}{dt}\n",
    "$$\n",
    "\n",
    "The last term in the above equation can be simplified as\n",
    "$$\n",
    "    \\vec r\\times m\\frac{d\\vec v}{dt} = \\frac{d}{dt}(\\vec r \\times m\\vec v) - \\underbrace{\\frac{d\\vec r}{dt}\\times m \\vec v}_{\\vec v\\times \\vec v = 0} = \\frac{d\\vec H_O}{dt}\n",
    "$$\n",
    "where $\\vec H_O = \\vec r \\times m\\vec v$ is the angular momentum about $O$.\n",
    "\n",
    "Therefore, the Angular Impulse is given by\n",
    "$$\n",
    "    \\int_{t_1}^{t_2}\\vec M_{O\\text{net}}dt = \\vec H_{O_2} - \\vec H_{O_1}\n",
    "$$\n",
    "\n",
    "\n"
   ]
  },
  {
   "cell_type": "code",
   "execution_count": 6,
   "id": "c7109863",
   "metadata": {},
   "outputs": [],
   "source": [
    "import sympy as sp\n",
    "sp.init_printing()"
   ]
  },
  {
   "cell_type": "code",
   "execution_count": 7,
   "id": "5f00b14b",
   "metadata": {},
   "outputs": [],
   "source": [
    "c, d, l, u, m = sp.symbols('c d l u m', real=True, positive=True)\n",
    "vx, vy = sp.symbols('v_x v_y', real=True)\n"
   ]
  },
  {
   "cell_type": "code",
   "execution_count": 8,
   "id": "47875688",
   "metadata": {},
   "outputs": [],
   "source": [
    "r0 = sp.Matrix([c, d, 0])\n",
    "v0 = sp.Matrix([-u, 0, 0])\n",
    "\n",
    "r1 = sp.Matrix([-sp.sqrt(l**2 - d**2), d, 0])\n",
    "v1 = sp.Matrix([vx, vy, 0])\n",
    "\n",
    "H0 = r0.cross(m*v0)\n",
    "H1 = r1.cross(m*v1)"
   ]
  },
  {
   "cell_type": "code",
   "execution_count": 9,
   "id": "6fe33404",
   "metadata": {},
   "outputs": [],
   "source": [
    "eq1 = sp.Eq(H0[2], H1[2])\n",
    "eq2 = sp.Eq(r1.dot(v1), 0)\n",
    "\n",
    "sol = sp.solve([eq1, eq2], [vx, vy], dict=True)[0]\n"
   ]
  },
  {
   "cell_type": "code",
   "execution_count": 10,
   "id": "49c8dc27",
   "metadata": {},
   "outputs": [],
   "source": [
    "v1_sub = v1.subs(sol)"
   ]
  },
  {
   "cell_type": "code",
   "execution_count": 11,
   "id": "427a8df7",
   "metadata": {},
   "outputs": [
    {
     "data": {
      "image/png": "[encoded data removed]",
      "text/latex": [
       "$\\displaystyle \\frac{d u}{l}$"
      ],
      "text/plain": [
       "d⋅u\n",
       "───\n",
       " l "
      ]
     },
     "execution_count": 11,
     "metadata": {},
     "output_type": "execute_result"
    }
   ],
   "source": [
    "sp.sqrt(sp.simplify(v1_sub.dot(v1_sub)))"
   ]
  },
  {
   "cell_type": "code",
   "execution_count": 12,
   "id": "fb9e5d2a",
   "metadata": {},
   "outputs": [],
   "source": [
    "I = m*(v1_sub - v0)\n",
    "IMag = sp.sqrt(sp.simplify(I.dot(I)))"
   ]
  },
  {
   "cell_type": "code",
   "execution_count": 13,
   "id": "1ebca770",
   "metadata": {},
   "outputs": [
    {
     "data": {
      "image/png": "[encoded data removed]",
      "text/latex": [
       "$\\displaystyle \\frac{m u \\sqrt{- d^{2} + l^{2}}}{l}$"
      ],
      "text/plain": [
       "       ___________\n",
       "      ╱    2    2 \n",
       "m⋅u⋅╲╱  - d  + l  \n",
       "──────────────────\n",
       "        l         "
      ]
     },
     "execution_count": 13,
     "metadata": {},
     "output_type": "execute_result"
    }
   ],
   "source": [
    "IMag"
   ]
  },
  {
   "cell_type": "markdown",
   "id": "5214f02d",
   "metadata": {},
   "source": [
    "## 1.5 Time Derivatives of Moving Vectors\n",
    "\n",
    "When dealing with rotating reference frames, the time derivative of a vector has additional terms to account for the rotation of the frame. This is crucial for understanding phenomena like the Coriolis and centrifugal forces. For a constant vector $\\vec A$ rotating about an axis with an angular velocity $\\vec \\omega$ and an angular acceleration $\\vec \\alpha$, the time derivatives of the vector $\\vec A$ is given by\n",
    "$$\n",
    "    \\begin{align*}\n",
    "        \\frac{d\\vec A}{dt} &= \\vec \\omega \\times \\vec A \\\\\n",
    "        \\frac{d^2\\vec A}{dt^2} &= \\vec \\alpha \\times \\vec A + \\omega \\times (\\omega \\times \\vec A) \\\\\n",
    "        \\frac{d^3\\vec A}{dt^3} &= \\frac{d\\vec\\alpha}{dt}\\times \\vec A + 2\\vec\\alpha\\times(\\vec\\omega\\times\\vec A) + \\vec\\omega[\\vec\\alpha\\times\\vec A + \\vec\\omega\\times(\\vec\\omega\\times\\vec A)]\n",
    "    \\end{align*}\n",
    "$$\n",
    "\n",
    "However, when the coordinate system itself rotates (non-inertial frame), Newton's laws are not directly applicable in such frames (body-axes, ECEF frames). Assuming a position vector $\\vec r$ in a relative frame of reference rotating with an angular velocity $\\vec \\Omega$, the transport equation for the time derivative is given by\n",
    "$$\n",
    "    \\left.\\frac{d\\vec r}{dt}\\right|_{\\text{I}} = \\left.\\frac{d\\vec r}{dt}\\right|_{\\text{rel}} + \\vec \\Omega \\times\\vec r\n",
    "$$\n",
    "\n",
    "where $(...)_{\\text{I}}$ is the derivative in the inertial frame and $(...)_{\\text{rel}}$ is the derivative in the non-inertial (relative frame). To compute the acceleration of the position vector $\\vec r$, we need to apply the same transport theorem to $\\vec v_{\\text{I}}$, thus\n",
    "$$\n",
    "    \\left.\\frac{d\\vec v_{\\text{I}}}{dt}\\right|_{\\text{I}} = \\left.\\frac{d\\vec v_{\\text{I}}}{dt}\\right|_{\\text{rel}} + \\vec \\Omega \\times \\vec v_{\\text{I}}\n",
    "$$\n",
    "putting $\\vec v_{\\text{I}} = \\vec v_{\\text{rel}} + \\vec\\Omega\\times\\vec r$, we get\n",
    "\n",
    "$$\n",
    "    \\left.\\frac{d^2\\vec r}{dt^2}\\right|_{\\text{I}} = \\left.\\frac{d^2\\vec r}{dt^2}\\right|_{\\text{rel}} + \\dot{\\vec\\Omega}\\times\\vec r + \\left.2\\vec\\Omega\\times\\frac{d\\vec r}{dt}\\right|_{\\text{rel}} + \\vec\\Omega\\times(\\vec\\Omega\\times\\vec r)\n",
    "$$"
   ]
  },
  {
   "cell_type": "code",
   "execution_count": 14,
   "id": "2bbfd3fd",
   "metadata": {},
   "outputs": [],
   "source": [
    "# Given parameters\n",
    "Omega = np.array([0, 0, 1])\n",
    "r0 = np.array([5, 0, 0])\n",
    "vR0 = np.array([-5, 0, 0])  # Initial velocity in rotating frame (radial inward)\n",
    "\n",
    "t_span = (0, 1)  # Time span\n",
    "t_eval = np.linspace(0, 1, 500)  # Evaluation points\n",
    "\n",
    "# --- Inertial Frame (analytical solution) ---\n",
    "vI = vR0 + np.cross(Omega, r0)  # Constant: [5, 1, 0]\n",
    "rI = r0 + np.outer(t_eval, vI)  # Broadcast to all times\n",
    "\n",
    "\n",
    "# --- Rotating Frame (ODE definition) ---\n",
    "def rotating_ode(t, y, Omega):\n",
    "    r = y[:3]\n",
    "    v = y[3:]\n",
    "    coriolis = -2 * np.cross(Omega, v)\n",
    "    centrifugal = -np.cross(Omega, np.cross(Omega, r))\n",
    "    a = coriolis + centrifugal  # a_rel = 0, so only fictitious terms\n",
    "    return np.concatenate((v, a))  # dy/dt = [dr/dt, dv/dt]\n",
    "\n",
    "# Initial state [r_x, r_y, r_z, v_x, v_y, v_z]\n",
    "y0 = np.concatenate((r0, vR0))\n",
    "\n",
    "# Integrate with RK45 (higher-order, adaptive step)\n",
    "sol = solve_ivp(rotating_ode, t_span, y0, args=(Omega,), method='RK45', t_eval=t_eval, rtol=1e-6, atol=1e-8)\n",
    "\n",
    "# Extract results\n",
    "rR = sol.y[:3].T  # Positions over time\n",
    "vR = sol.y[3:].T  # Velocities over time (optional for plotting)\n"
   ]
  },
  {
   "cell_type": "code",
   "execution_count": 15,
   "id": "911f8c5e",
   "metadata": {},
   "outputs": [
    {
     "data": {
      "image/png": "[encoded data removed]",
      "text/plain": [
       "<Figure size 700x700 with 1 Axes>"
      ]
     },
     "metadata": {},
     "output_type": "display_data"
    }
   ],
   "source": [
    "# Plotting\n",
    "plt.figure(figsize=(7, 7))\n",
    "\n",
    "# Inertial frame trajectory (straight line)\n",
    "plt.plot(rI[::10, 0], rI[::10, 1], 'k.', lw=1, label='Inertial Frame Trajectory')\n",
    "\n",
    "# Rotating frame trajectory (curved due to Coriolis)\n",
    "plt.plot(rR[::10, 0], rR[::10, 1], 'r.', lw=1, label='Rotating Frame Trajectory')\n",
    "\n",
    "# Disk periphery (for reference, assuming radius 5)\n",
    "theta = np.linspace(0, 2*np.pi, 100)\n",
    "plt.plot(5*np.cos(t_eval[::10]), 5*np.sin(t_eval[::10]), 'b.', lw=1, label='Disk Periphery')\n",
    "\n",
    "plt.axis('equal')  # Better than 'square' for aspect ratio\n",
    "# plt.xlim([-6, 6])\n",
    "# plt.ylim([-6, 6])\n",
    "plt.xlabel('X')\n",
    "plt.ylabel('Y')\n",
    "plt.title('Particle Trajectories in Inertial and Rotating Frames')\n",
    "plt.legend()\n",
    "plt.grid(True)\n",
    "# plt.show()  # Uncomment to display; here we assume it's for visualization"
   ]
  },
  {
   "attachments": {
    "image.png": {
     "image/png": "[encoded data removed]"
    }
   },
   "cell_type": "markdown",
   "id": "229fb929",
   "metadata": {},
   "source": [
    "## 1.6 Relative Motion\n",
    "\n",
    "The motion of an object as observed from another moving object is called relative motion. We can describe the position, velocity, and acceleration of a body relative to another using the transport equations.\n",
    "\n",
    "![image.png](attachment:image.png)"
   ]
  },
  {
   "cell_type": "markdown",
   "id": "f00bb692",
   "metadata": {},
   "source": []
  }
 ],
 "metadata": {
  "kernelspec": {
   "display_name": ".venv (3.10.11)",
   "language": "python",
   "name": "python3"
  },
  "language_info": {
   "codemirror_mode": {
    "name": "ipython",
    "version": 3
   },
   "file_extension": ".py",
   "mimetype": "text/x-python",
   "name": "python",
   "nbconvert_exporter": "python",
   "pygments_lexer": "ipython3",
   "version": "3.10.11"
  }
 },
 "nbformat": 4,
 "nbformat_minor": 5
}
