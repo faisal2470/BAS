{
 "cells": [
  {
   "cell_type": "code",
   "execution_count": 18,
   "id": "20f3faec",
   "metadata": {},
   "outputs": [],
   "source": [
    "import numpy as np\n",
    "import matplotlib.pyplot as plt\n",
    "import plotly.graph_objects as go\n",
    "from poliastro.bodies import Earth\n",
    "plt.rcParams['font.family'] = 'Serif'"
   ]
  },
  {
   "cell_type": "markdown",
   "id": "88153e63",
   "metadata": {},
   "source": [
    "# Chapter 1: Dynamics of Point Masses"
   ]
  },
  {
   "cell_type": "markdown",
   "id": "025599ac",
   "metadata": {},
   "source": [
    "## 1.1 Introduction\n",
    "\n",
    "This notebook covers the fundamental concepts of the dynamics of point masses, which is the foundation of orbital mechanics. We will explore kinematics, Newton's laws of motion and gravitation, and relative motion. Interactive code examples will help illustrate these concepts."
   ]
  },
  {
   "cell_type": "markdown",
   "id": "fbcfc6e0",
   "metadata": {},
   "source": [
    "## 1.2 Kinematics\n",
    "\n",
    "Kinematics is the branch of mechanics that describes the motion of objects without considering the forces that cause the motion. In this section, we will find the instantaneous centre and the radius of curvature of the path for a given instantaneous position vector $\\vec r(t)$, velocity vector $\\vec v(t)$ and the acceleration vector $\\vec a(t)$.\n",
    "\n",
    "We begin by finding the unit vector tangential to the path, given by\n",
    "$$\n",
    "    \\hat u_t = \\frac{\\vec v}{v}; \\ \\ \\ \\text{where, } \\ v = ||\\vec v||\n",
    "$$\n",
    "\n",
    "The tangential acceleration $a_t$ is then given by $a_t = \\vec a \\cdot \\hat u_t$. Using the relation $||\\vec a||^2 = a_t^2 + a_n^2$, we get the normal component of the accelration as\n",
    "$$\n",
    "    a_n = \\sqrt{||\\vec a||^2 - a_t^2}\n",
    "$$\n",
    "\n",
    "Then, using the relation $\\vec a = a_t\\hat u_t + a_n\\hat u_n$, we get the unit vector normal to the path and pointing towards the centre $\\hat u_n$ as\n",
    "$$\n",
    "    \\hat u_n = \\frac{1}{a_n}(\\vec a - a_t\\hat u_t)\n",
    "$$\n",
    "\n",
    "Moreover, the radius of curvature $\\varrho$ can be obtained from the normal acceleration $a_n$ using\n",
    "$$\n",
    "    \\varrho = \\frac{v^2}{a_n}\n",
    "$$\n",
    "\n",
    "Thus, we get the position of the centre of curvature $C$ with respect to the particle $P$ as $\\vec r_{C/P} = \\varrho\\hat u_n$. From this, we can get the position of $C$ in the cartesian coordinate system as \n",
    "$$\n",
    "    \\vec r_C = \\vec r + \\vec r_{C/P}\n",
    "$$\n",
    "\n",
    "Once the centre and the radius are computed, the osculating circular path as a function of $\\theta$ is given by\n",
    "$$\n",
    "    \\vec r(\\theta) = \\vec r_C + \\vec r_{P/C}(\\theta)\n",
    "$$\n",
    "\n",
    "where, $\\vec r_{P/C}(\\theta) = \\varrho\\sin\\theta\\hat u_t - \\varrho\\cos\\theta\\hat u_n$. The normal to this osculating circle (binormal unit vector) $\\hat u_b$ is then given by\n",
    "$$\n",
    "    \\hat u_b = \\hat u_t \\times \\hat u_n\n",
    "$$"
   ]
  },
  {
   "cell_type": "code",
   "execution_count": 2,
   "id": "de23f720",
   "metadata": {
    "execution": {
     "iopub.execute_input": "2025-09-16T21:51:04.530333Z",
     "iopub.status.busy": "2025-09-16T21:51:04.530127Z",
     "iopub.status.idle": "2025-09-16T21:51:07.772498Z",
     "shell.execute_reply": "2025-09-16T21:51:07.771921Z"
    }
   },
   "outputs": [],
   "source": [
    "# Position vector\n",
    "r = np.array([5, 5, 5])\n",
    "\n",
    "# Velocity vector\n",
    "v = np.array([0, 5, 0])\n",
    "\n",
    "# Acceleration vector\n",
    "a = np.array([-5/2, 0, -5/2])\n",
    "\n",
    "vMag = np.linalg.norm(v)\n",
    "uHat_t = v/vMag\n",
    "\n",
    "a_t = np.dot(a, uHat_t)\n",
    "aMag = np.linalg.norm(a)\n",
    "a_n = np.sqrt(aMag**2 - a_t**2)\n",
    "\n",
    "Rho = vMag**2/a_n\n",
    "uHat_n = (a - a_t*uHat_t)/a_n\n",
    "\n",
    "r_CP = Rho*uHat_n\n",
    "r_C = r + r_CP\n",
    "\n",
    "# Compute binormal unit vector\n",
    "uHat_b = np.cross(uHat_t, uHat_n)\n",
    "uHat_b = uHat_b / np.linalg.norm(uHat_b)  # Ensure unit vector\n",
    "\n",
    "theta = np.linspace(0, 2*np.pi, 100)\n",
    "r_PC = np.array([Rho*np.sin(theta)*uHat_t[0] - Rho*np.cos(theta)*uHat_n[0], \n",
    "                 Rho*np.sin(theta)*uHat_t[1] - Rho*np.cos(theta)*uHat_n[1],\n",
    "                 Rho*np.sin(theta)*uHat_t[2] - Rho*np.cos(theta)*uHat_n[2]]).T\n",
    "circle_x = r_C[0] + r_PC[:, 0]\n",
    "circle_y = r_C[1] + r_PC[:, 1]\n",
    "circle_z = r_C[2] + r_PC[:, 2]"
   ]
  },
  {
   "cell_type": "markdown",
   "id": "da673c5d",
   "metadata": {},
   "source": [
    "### Visualization of Kinematic Vectors"
   ]
  },
  {
   "cell_type": "code",
   "execution_count": 3,
   "id": "23decfda",
   "metadata": {
    "execution": {
     "iopub.execute_input": "2025-09-16T21:51:07.775157Z",
     "iopub.status.busy": "2025-09-16T21:51:07.774771Z",
     "iopub.status.idle": "2025-09-16T21:51:08.369124Z",
     "shell.execute_reply": "2025-09-16T21:51:08.368405Z"
    }
   },
   "outputs": [
    {
     "data": {
      "application/vnd.plotly.v1+json": {
       "config": {
        "plotlyServerURL": "https://plot.ly"
       },
       "data": [
        {
         "colorscale": [
          [
           0,
           "blue"
          ],
          [
           1,
           "blue"
          ]
         ],
         "name": "Position (r)",
         "showscale": false,
         "sizemode": "absolute",
         "sizeref": 0.5,
         "type": "cone",
         "u": [
          5
         ],
         "v": [
          5
         ],
         "w": [
          5
         ],
         "x": [
          5
         ],
         "y": [
          5
         ],
         "z": [
          5
         ]
        },
        {
         "colorscale": [
          [
           0,
           "red"
          ],
          [
           1,
           "red"
          ]
         ],
         "name": "Velocity (v)",
         "showscale": false,
         "sizemode": "absolute",
         "sizeref": 0.5,
         "type": "cone",
         "u": [
          0
         ],
         "v": [
          5
         ],
         "w": [
          0
         ],
         "x": [
          5
         ],
         "y": [
          10
         ],
         "z": [
          5
         ]
        },
        {
         "colorscale": [
          [
           0,
           "green"
          ],
          [
           1,
           "green"
          ]
         ],
         "name": "Acceleration (a)",
         "showscale": false,
         "sizemode": "absolute",
         "sizeref": 0.5,
         "type": "cone",
         "u": [
          -2.5
         ],
         "v": [
          0
         ],
         "w": [
          -2.5
         ],
         "x": [
          2.5
         ],
         "y": [
          5
         ],
         "z": [
          2.5
         ]
        },
        {
         "colorscale": [
          [
           0,
           "black"
          ],
          [
           1,
           "black"
          ]
         ],
         "name": "Acceleration (a)",
         "showscale": false,
         "sizemode": "absolute",
         "sizeref": 0.5,
         "type": "cone",
         "u": [
          8.881784197001252e-16
         ],
         "v": [
          5
         ],
         "w": [
          8.881784197001252e-16
         ],
         "x": [
          8.881784197001252e-16
         ],
         "y": [
          5
         ],
         "z": [
          8.881784197001252e-16
         ]
        },
        {
         "line": {
          "color": "blue",
          "width": 4
         },
         "mode": "lines",
         "name": "r",
         "type": "scatter3d",
         "x": [
          0,
          5
         ],
         "y": [
          0,
          5
         ],
         "z": [
          0,
          5
         ]
        },
        {
         "line": {
          "color": "red",
          "width": 4
         },
         "mode": "lines",
         "name": "v",
         "type": "scatter3d",
         "x": [
          5,
          5
         ],
         "y": [
          5,
          10
         ],
         "z": [
          5,
          5
         ]
        },
        {
         "line": {
          "color": "green",
          "width": 4
         },
         "mode": "lines",
         "name": "a",
         "type": "scatter3d",
         "x": [
          5,
          2.5
         ],
         "y": [
          5,
          5
         ],
         "z": [
          5,
          2.5
         ]
        },
        {
         "line": {
          "color": "black",
          "width": 2
         },
         "mode": "lines",
         "name": "r_c",
         "type": "scatter3d",
         "x": [
          0,
          8.881784197001252e-16
         ],
         "y": [
          0,
          5
         ],
         "z": [
          0,
          8.881784197001252e-16
         ]
        },
        {
         "line": {
          "color": "black",
          "width": 4
         },
         "mode": "lines",
         "name": "Osculating Circle",
         "type": "scatter3d",
         "x": {
          "bdata": "AAAAAAAAFEA9z7kYsfUTQIFcJAPP1hNAt/EClXmjE0B2D8645VsTQDduJzddABNA2i7Laj6REkBvoUzf+w4SQNvkAtsbehFAdBaf1DfTEEB2v/rU+xoQQEgkg4tLpA5AI4haWwnzDEC9pDq27yMLQBFYzfvbOAlAxRWRYsgzB0B0NwjuyRYFQFfRR0kO5AJAs2sciNmdAEBvaCqiB438PzQUvOXtwPc/mjjMzlfc8j92UI4docjrP5yTU8Puu+E/ryjcMtJzzj8/OfOC9U60vz37Ig4oXNm/DBYTPTfF5r/saqvIcGLwv7MgczpiUfW/h2lhFVoq+r//rfEhWej+v/R9H/s9wwHAAAAAAAAABMCAIFQ2JCgGwP7hT3VxOQjApC5VH8YxCsCPjmJUGg8MwPAm+QmCzw3AK5hRBi9xD8C5cWpeOXkQwPUX9wTgKBHAt/c1ZtbGEcDmMWWteVISwC9cc+k5yxLANFJgoZowE8BoV4xUM4ITwCBGceavvxPAucBW9dDoE8BiBKgbbP0TwGIEqBts/RPAucBW9dDoE8AgRnHmr78TwGhXjFQzghPANFJgoZowE8AvXHPpOcsSwOYxZa15UhLAt/c1ZtbGEcD0F/cE4CgRwLlxal45eRDAKphRBi9xD8DyJvkJgs8NwI2OYlQaDwzApy5VH8YxCsD74U91cTkIwIIgVDYkKAbA+f//////A8DyfR/7PcMBwP+t8SFZ6P6/jGlhFVoq+r+qIHM6YlH1v+hqq8hwYvC/DBYTPTfF5r9U+yIOKFzZv6g484L1TrS/0ijcMtJzzj+Sk1PD7rvhP2JQjh2hyOs/nzjMzlfc8j80FLzl7cD3P2poKqIHjfw/t2sciNmdAEBY0UdJDuQCQHQ3CO7JFgVAwhWRYsgzB0AUWM372zgJQL2kOrbvIwtAIYhaWwnzDEBFJIOLS6QOQHe/+tT7GhBAdBaf1DfTEEDb5ALbG3oRQG6hTN/7DhJA2i7Laj6REkA3bic3XQATQHYPzrjlWxNAuPEClXmjE0CBXCQDz9YTQD3PuRix9RNAAAAAAAAAFEA=",
          "dtype": "f8"
         },
         "y": {
          "bdata": "AAAAAAAAFEAOTNT8PMsVQOrdH5WglBdACL9VTFNaGUAFeulzgRobQHzSZw1d0xxAeIKyph+DHkAeCjoXBhQgQBh6dF844CBA9maSLlSlIUD7koNVjmIiQLjtD8UjFyNAD+LpVlrCI0B9bJGNgWMkQJYsQkrz+SRAH+gweBSFJUAU+2esVQQmQOTqnbkzdyZAurdtNzjdJkCiiGX8+TUnQMjgbYodgSdAQp8ZbVW+J0A8kX2JYu0nQABJPV8UDihAvCuKOkkgKEBqLOFW7iMoQChkY/L/GChAkJa1UYn/J0AqpGK0pNcnQArkzDl7oSdA1EjKtkRdJ0BuAxd8RwsnQNz22Q3YqyZAvLSFzFg/JkDV0G+POcYlQHgUhzH3QCVAUGmfEBuwJEAGJ9h/OhQkQOy6ri32bSNAVFVcfvm9IkAKWinb+QQiQFKybPe1QyFAxcT3C/V6IEAKbHMTDFcfQAhH24h9rB1AZXpfLPb3G0CY6Lj5NzsaQBa4RmQNeBhANJ95fkewFkCg32savOUUQF8glOVDGhNAy2CGgbhPEUDQj3I35Q8PQNQujgyQiQtAMwtBpxMQCED0cUnuBKcEQOknGdnnUQFA3NlBoFco/D9wbZpEUOL1P3Bfak1isO8/uKo6Gmgg5D+AoihKOkHSP4AHJ9h/OqS/8CntE2ID1r+QR3EYcw/kv0gN/faYY+y/7KUtZMb68b/kts9uwF71v3AbuOA7Wvi/nEZStiXq+r9QIGfO2Qv9v1AhFaMlvf6/gLSsjUr8/7+ekI3J/2MAwKqxhFu5jwDA7q4o6iSBAMAAJPV8UTgAwNyJ7EsUa/+/DPrMaKvy/b9ABm9T7Aj8vxBFLOPPr/m/yL1tu8Hp9r8cV+/Mnbnzv6DYP2OtIvC/+IEOg0dR6L+wkkVIaT7fvwAfW2Rj4Mi/gPgOi9TSvj/QSAJehxvdP2DQxqca1+k/UMhsi17V8j84L1wEPf74PwKvL0bPX/8/FfuassD5AkAKWzDlRVkGQPMLLRj9yglA+IFUZ1lLDUAYIuBqX2sQQPKzKwPDNBJA/v//////E0A=",
          "dtype": "f8"
         },
         "z": {
          "bdata": "AAAAAAAAFEA9z7kYsfUTQIFcJAPP1hNAt/EClXmjE0B2D8645VsTQDduJzddABNA2i7Laj6REkBvoUzf+w4SQNvkAtsbehFAdBaf1DfTEEB2v/rU+xoQQEgkg4tLpA5AI4haWwnzDEC9pDq27yMLQBFYzfvbOAlAxRWRYsgzB0B0NwjuyRYFQFfRR0kO5AJAs2sciNmdAEBvaCqiB438PzQUvOXtwPc/mjjMzlfc8j92UI4docjrP5yTU8Puu+E/ryjcMtJzzj8/OfOC9U60vz37Ig4oXNm/DBYTPTfF5r/saqvIcGLwv7MgczpiUfW/h2lhFVoq+r//rfEhWej+v/R9H/s9wwHAAAAAAAAABMCAIFQ2JCgGwP7hT3VxOQjApC5VH8YxCsCPjmJUGg8MwPAm+QmCzw3AK5hRBi9xD8C5cWpeOXkQwPUX9wTgKBHAt/c1ZtbGEcDmMWWteVISwC9cc+k5yxLANFJgoZowE8BoV4xUM4ITwCBGceavvxPAucBW9dDoE8BiBKgbbP0TwGIEqBts/RPAucBW9dDoE8AgRnHmr78TwGhXjFQzghPANFJgoZowE8AvXHPpOcsSwOYxZa15UhLAt/c1ZtbGEcD0F/cE4CgRwLlxal45eRDAKphRBi9xD8DyJvkJgs8NwI2OYlQaDwzApy5VH8YxCsD74U91cTkIwIIgVDYkKAbA+f//////A8DyfR/7PcMBwP+t8SFZ6P6/jGlhFVoq+r+qIHM6YlH1v+hqq8hwYvC/DBYTPTfF5r9U+yIOKFzZv6g484L1TrS/0ijcMtJzzj+Sk1PD7rvhP2JQjh2hyOs/nzjMzlfc8j80FLzl7cD3P2poKqIHjfw/t2sciNmdAEBY0UdJDuQCQHQ3CO7JFgVAwhWRYsgzB0AUWM372zgJQL2kOrbvIwtAIYhaWwnzDEBFJIOLS6QOQHe/+tT7GhBAdBaf1DfTEEDb5ALbG3oRQG6hTN/7DhJA2i7Laj6REkA3bic3XQATQHYPzrjlWxNAuPEClXmjE0CBXCQDz9YTQD3PuRix9RNAAAAAAAAAFEA=",
          "dtype": "f8"
         }
        }
       ],
       "layout": {
        "height": 800,
        "scene": {
         "xaxis": {
          "title": {
           "text": "X"
          }
         },
         "yaxis": {
          "title": {
           "text": "Y"
          }
         },
         "zaxis": {
          "title": {
           "text": "Z"
          }
         }
        },
        "showlegend": true,
        "template": {
         "data": {
          "bar": [
           {
            "error_x": {
             "color": "#2a3f5f"
            },
            "error_y": {
             "color": "#2a3f5f"
            },
            "marker": {
             "line": {
              "color": "#E5ECF6",
              "width": 0.5
             },
             "pattern": {
              "fillmode": "overlay",
              "size": 10,
              "solidity": 0.2
             }
            },
            "type": "bar"
           }
          ],
          "barpolar": [
           {
            "marker": {
             "line": {
              "color": "#E5ECF6",
              "width": 0.5
             },
             "pattern": {
              "fillmode": "overlay",
              "size": 10,
              "solidity": 0.2
             }
            },
            "type": "barpolar"
           }
          ],
          "carpet": [
           {
            "aaxis": {
             "endlinecolor": "#2a3f5f",
             "gridcolor": "white",
             "linecolor": "white",
             "minorgridcolor": "white",
             "startlinecolor": "#2a3f5f"
            },
            "baxis": {
             "endlinecolor": "#2a3f5f",
             "gridcolor": "white",
             "linecolor": "white",
             "minorgridcolor": "white",
             "startlinecolor": "#2a3f5f"
            },
            "type": "carpet"
           }
          ],
          "choropleth": [
           {
            "colorbar": {
             "outlinewidth": 0,
             "ticks": ""
            },
            "type": "choropleth"
           }
          ],
          "contour": [
           {
            "colorbar": {
             "outlinewidth": 0,
             "ticks": ""
            },
            "colorscale": [
             [
              0,
              "#0d0887"
             ],
             [
              0.1111111111111111,
              "#46039f"
             ],
             [
              0.2222222222222222,
              "#7201a8"
             ],
             [
              0.3333333333333333,
              "#9c179e"
             ],
             [
              0.4444444444444444,
              "#bd3786"
             ],
             [
              0.5555555555555556,
              "#d8576b"
             ],
             [
              0.6666666666666666,
              "#ed7953"
             ],
             [
              0.7777777777777778,
              "#fb9f3a"
             ],
             [
              0.8888888888888888,
              "#fdca26"
             ],
             [
              1,
              "#f0f921"
             ]
            ],
            "type": "contour"
           }
          ],
          "contourcarpet": [
           {
            "colorbar": {
             "outlinewidth": 0,
             "ticks": ""
            },
            "type": "contourcarpet"
           }
          ],
          "heatmap": [
           {
            "colorbar": {
             "outlinewidth": 0,
             "ticks": ""
            },
            "colorscale": [
             [
              0,
              "#0d0887"
             ],
             [
              0.1111111111111111,
              "#46039f"
             ],
             [
              0.2222222222222222,
              "#7201a8"
             ],
             [
              0.3333333333333333,
              "#9c179e"
             ],
             [
              0.4444444444444444,
              "#bd3786"
             ],
             [
              0.5555555555555556,
              "#d8576b"
             ],
             [
              0.6666666666666666,
              "#ed7953"
             ],
             [
              0.7777777777777778,
              "#fb9f3a"
             ],
             [
              0.8888888888888888,
              "#fdca26"
             ],
             [
              1,
              "#f0f921"
             ]
            ],
            "type": "heatmap"
           }
          ],
          "histogram": [
           {
            "marker": {
             "pattern": {
              "fillmode": "overlay",
              "size": 10,
              "solidity": 0.2
             }
            },
            "type": "histogram"
           }
          ],
          "histogram2d": [
           {
            "colorbar": {
             "outlinewidth": 0,
             "ticks": ""
            },
            "colorscale": [
             [
              0,
              "#0d0887"
             ],
             [
              0.1111111111111111,
              "#46039f"
             ],
             [
              0.2222222222222222,
              "#7201a8"
             ],
             [
              0.3333333333333333,
              "#9c179e"
             ],
             [
              0.4444444444444444,
              "#bd3786"
             ],
             [
              0.5555555555555556,
              "#d8576b"
             ],
             [
              0.6666666666666666,
              "#ed7953"
             ],
             [
              0.7777777777777778,
              "#fb9f3a"
             ],
             [
              0.8888888888888888,
              "#fdca26"
             ],
             [
              1,
              "#f0f921"
             ]
            ],
            "type": "histogram2d"
           }
          ],
          "histogram2dcontour": [
           {
            "colorbar": {
             "outlinewidth": 0,
             "ticks": ""
            },
            "colorscale": [
             [
              0,
              "#0d0887"
             ],
             [
              0.1111111111111111,
              "#46039f"
             ],
             [
              0.2222222222222222,
              "#7201a8"
             ],
             [
              0.3333333333333333,
              "#9c179e"
             ],
             [
              0.4444444444444444,
              "#bd3786"
             ],
             [
              0.5555555555555556,
              "#d8576b"
             ],
             [
              0.6666666666666666,
              "#ed7953"
             ],
             [
              0.7777777777777778,
              "#fb9f3a"
             ],
             [
              0.8888888888888888,
              "#fdca26"
             ],
             [
              1,
              "#f0f921"
             ]
            ],
            "type": "histogram2dcontour"
           }
          ],
          "mesh3d": [
           {
            "colorbar": {
             "outlinewidth": 0,
             "ticks": ""
            },
            "type": "mesh3d"
           }
          ],
          "parcoords": [
           {
            "line": {
             "colorbar": {
              "outlinewidth": 0,
              "ticks": ""
             }
            },
            "type": "parcoords"
           }
          ],
          "pie": [
           {
            "automargin": true,
            "type": "pie"
           }
          ],
          "scatter": [
           {
            "fillpattern": {
             "fillmode": "overlay",
             "size": 10,
             "solidity": 0.2
            },
            "type": "scatter"
           }
          ],
          "scatter3d": [
           {
            "line": {
             "colorbar": {
              "outlinewidth": 0,
              "ticks": ""
             }
            },
            "marker": {
             "colorbar": {
              "outlinewidth": 0,
              "ticks": ""
             }
            },
            "type": "scatter3d"
           }
          ],
          "scattercarpet": [
           {
            "marker": {
             "colorbar": {
              "outlinewidth": 0,
              "ticks": ""
             }
            },
            "type": "scattercarpet"
           }
          ],
          "scattergeo": [
           {
            "marker": {
             "colorbar": {
              "outlinewidth": 0,
              "ticks": ""
             }
            },
            "type": "scattergeo"
           }
          ],
          "scattergl": [
           {
            "marker": {
             "colorbar": {
              "outlinewidth": 0,
              "ticks": ""
             }
            },
            "type": "scattergl"
           }
          ],
          "scattermap": [
           {
            "marker": {
             "colorbar": {
              "outlinewidth": 0,
              "ticks": ""
             }
            },
            "type": "scattermap"
           }
          ],
          "scattermapbox": [
           {
            "marker": {
             "colorbar": {
              "outlinewidth": 0,
              "ticks": ""
             }
            },
            "type": "scattermapbox"
           }
          ],
          "scatterpolar": [
           {
            "marker": {
             "colorbar": {
              "outlinewidth": 0,
              "ticks": ""
             }
            },
            "type": "scatterpolar"
           }
          ],
          "scatterpolargl": [
           {
            "marker": {
             "colorbar": {
              "outlinewidth": 0,
              "ticks": ""
             }
            },
            "type": "scatterpolargl"
           }
          ],
          "scatterternary": [
           {
            "marker": {
             "colorbar": {
              "outlinewidth": 0,
              "ticks": ""
             }
            },
            "type": "scatterternary"
           }
          ],
          "surface": [
           {
            "colorbar": {
             "outlinewidth": 0,
             "ticks": ""
            },
            "colorscale": [
             [
              0,
              "#0d0887"
             ],
             [
              0.1111111111111111,
              "#46039f"
             ],
             [
              0.2222222222222222,
              "#7201a8"
             ],
             [
              0.3333333333333333,
              "#9c179e"
             ],
             [
              0.4444444444444444,
              "#bd3786"
             ],
             [
              0.5555555555555556,
              "#d8576b"
             ],
             [
              0.6666666666666666,
              "#ed7953"
             ],
             [
              0.7777777777777778,
              "#fb9f3a"
             ],
             [
              0.8888888888888888,
              "#fdca26"
             ],
             [
              1,
              "#f0f921"
             ]
            ],
            "type": "surface"
           }
          ],
          "table": [
           {
            "cells": {
             "fill": {
              "color": "#EBF0F8"
             },
             "line": {
              "color": "white"
             }
            },
            "header": {
             "fill": {
              "color": "#C8D4E3"
             },
             "line": {
              "color": "white"
             }
            },
            "type": "table"
           }
          ]
         },
         "layout": {
          "annotationdefaults": {
           "arrowcolor": "#2a3f5f",
           "arrowhead": 0,
           "arrowwidth": 1
          },
          "autotypenumbers": "strict",
          "coloraxis": {
           "colorbar": {
            "outlinewidth": 0,
            "ticks": ""
           }
          },
          "colorscale": {
           "diverging": [
            [
             0,
             "#8e0152"
            ],
            [
             0.1,
             "#c51b7d"
            ],
            [
             0.2,
             "#de77ae"
            ],
            [
             0.3,
             "#f1b6da"
            ],
            [
             0.4,
             "#fde0ef"
            ],
            [
             0.5,
             "#f7f7f7"
            ],
            [
             0.6,
             "#e6f5d0"
            ],
            [
             0.7,
             "#b8e186"
            ],
            [
             0.8,
             "#7fbc41"
            ],
            [
             0.9,
             "#4d9221"
            ],
            [
             1,
             "#276419"
            ]
           ],
           "sequential": [
            [
             0,
             "#0d0887"
            ],
            [
             0.1111111111111111,
             "#46039f"
            ],
            [
             0.2222222222222222,
             "#7201a8"
            ],
            [
             0.3333333333333333,
             "#9c179e"
            ],
            [
             0.4444444444444444,
             "#bd3786"
            ],
            [
             0.5555555555555556,
             "#d8576b"
            ],
            [
             0.6666666666666666,
             "#ed7953"
            ],
            [
             0.7777777777777778,
             "#fb9f3a"
            ],
            [
             0.8888888888888888,
             "#fdca26"
            ],
            [
             1,
             "#f0f921"
            ]
           ],
           "sequentialminus": [
            [
             0,
             "#0d0887"
            ],
            [
             0.1111111111111111,
             "#46039f"
            ],
            [
             0.2222222222222222,
             "#7201a8"
            ],
            [
             0.3333333333333333,
             "#9c179e"
            ],
            [
             0.4444444444444444,
             "#bd3786"
            ],
            [
             0.5555555555555556,
             "#d8576b"
            ],
            [
             0.6666666666666666,
             "#ed7953"
            ],
            [
             0.7777777777777778,
             "#fb9f3a"
            ],
            [
             0.8888888888888888,
             "#fdca26"
            ],
            [
             1,
             "#f0f921"
            ]
           ]
          },
          "colorway": [
           "#636efa",
           "#EF553B",
           "#00cc96",
           "#ab63fa",
           "#FFA15A",
           "#19d3f3",
           "#FF6692",
           "#B6E880",
           "#FF97FF",
           "#FECB52"
          ],
          "font": {
           "color": "#2a3f5f"
          },
          "geo": {
           "bgcolor": "white",
           "lakecolor": "white",
           "landcolor": "#E5ECF6",
           "showlakes": true,
           "showland": true,
           "subunitcolor": "white"
          },
          "hoverlabel": {
           "align": "left"
          },
          "hovermode": "closest",
          "mapbox": {
           "style": "light"
          },
          "paper_bgcolor": "white",
          "plot_bgcolor": "#E5ECF6",
          "polar": {
           "angularaxis": {
            "gridcolor": "white",
            "linecolor": "white",
            "ticks": ""
           },
           "bgcolor": "#E5ECF6",
           "radialaxis": {
            "gridcolor": "white",
            "linecolor": "white",
            "ticks": ""
           }
          },
          "scene": {
           "xaxis": {
            "backgroundcolor": "#E5ECF6",
            "gridcolor": "white",
            "gridwidth": 2,
            "linecolor": "white",
            "showbackground": true,
            "ticks": "",
            "zerolinecolor": "white"
           },
           "yaxis": {
            "backgroundcolor": "#E5ECF6",
            "gridcolor": "white",
            "gridwidth": 2,
            "linecolor": "white",
            "showbackground": true,
            "ticks": "",
            "zerolinecolor": "white"
           },
           "zaxis": {
            "backgroundcolor": "#E5ECF6",
            "gridcolor": "white",
            "gridwidth": 2,
            "linecolor": "white",
            "showbackground": true,
            "ticks": "",
            "zerolinecolor": "white"
           }
          },
          "shapedefaults": {
           "line": {
            "color": "#2a3f5f"
           }
          },
          "ternary": {
           "aaxis": {
            "gridcolor": "white",
            "linecolor": "white",
            "ticks": ""
           },
           "baxis": {
            "gridcolor": "white",
            "linecolor": "white",
            "ticks": ""
           },
           "bgcolor": "#E5ECF6",
           "caxis": {
            "gridcolor": "white",
            "linecolor": "white",
            "ticks": ""
           }
          },
          "title": {
           "x": 0.05
          },
          "xaxis": {
           "automargin": true,
           "gridcolor": "white",
           "linecolor": "white",
           "ticks": "",
           "title": {
            "standoff": 15
           },
           "zerolinecolor": "white",
           "zerolinewidth": 2
          },
          "yaxis": {
           "automargin": true,
           "gridcolor": "white",
           "linecolor": "white",
           "ticks": "",
           "title": {
            "standoff": 15
           },
           "zerolinecolor": "white",
           "zerolinewidth": 2
          }
         }
        },
        "title": {
         "text": "Center = [0. 5. 0.], Radius = 7.07"
        },
        "width": 800
       }
      }
     },
     "metadata": {},
     "output_type": "display_data"
    }
   ],
   "source": [
    "# Create quiver plot data\n",
    "# Vector r: from origin (0,0,0) to r\n",
    "quiver_r = go.Cone(\n",
    "    x=[r[0]], y=[r[1]], z=[r[2]],\n",
    "    u=[r[0]], v=[r[1]], w=[r[2]],\n",
    "    colorscale=[[0, 'blue'], [1, 'blue']],\n",
    "    sizemode=\"absolute\",\n",
    "    sizeref=0.5,\n",
    "    name='Position (r)',\n",
    "    showscale=False\n",
    ")\n",
    "\n",
    "# Vector v: from r to r+v\n",
    "quiver_v = go.Cone(\n",
    "    x=[r[0] + v[0]], y=[r[1] + v[1]], z=[r[2] + v[2]],\n",
    "    u=[v[0]], v=[v[1]], w=[v[2]],\n",
    "    colorscale=[[0, 'red'], [1, 'red']],\n",
    "    sizemode=\"absolute\",\n",
    "    sizeref=0.5,\n",
    "    name='Velocity (v)',\n",
    "    showscale=False\n",
    ")\n",
    "\n",
    "# Vector a: from r to r+a\n",
    "quiver_a = go.Cone(\n",
    "    x=[r[0] + a[0]], y=[r[1] + a[1]], z=[r[2] + a[2]],\n",
    "    u=[a[0]], v=[a[1]], w=[a[2]],\n",
    "    colorscale=[[0, 'green'], [1, 'green']],\n",
    "    sizemode=\"absolute\",\n",
    "    sizeref=0.5,\n",
    "    name='Acceleration (a)',\n",
    "    showscale=False\n",
    ")\n",
    "\n",
    "quiver_c = go.Cone(\n",
    "    x=[r_C[0]], y=[r_C[1]], z=[r_C[2]],\n",
    "    u=[r_C[0]], v=[r_C[1]], w=[r_C[2]],\n",
    "    colorscale=[[0, 'black'], [1, 'black']],\n",
    "    sizemode=\"absolute\",\n",
    "    sizeref=0.5,\n",
    "    name='Acceleration (a)',\n",
    "    showscale=False\n",
    ")\n",
    "\n",
    "# Create lines to show vector paths\n",
    "# Line for r: from origin to r\n",
    "line_r = go.Scatter3d(\n",
    "    x=[0, r[0]], y=[0, r[1]], z=[0, r[2]],\n",
    "    mode='lines',\n",
    "    line=dict(color='blue', width=4),\n",
    "    name='r'\n",
    ")\n",
    "\n",
    "# Line for v: from r to r+v\n",
    "line_v = go.Scatter3d(\n",
    "    x=[r[0], r[0]+v[0]], y=[r[1], r[1]+v[1]], z=[r[2], r[2]+v[2]],\n",
    "    mode='lines',\n",
    "    line=dict(color='red', width=4),\n",
    "    name='v'\n",
    ")\n",
    "\n",
    "# Line for a: from r to r+a\n",
    "line_a = go.Scatter3d(\n",
    "    x=[r[0], r[0]+a[0]], y=[r[1], r[1]+a[1]], z=[r[2], r[2]+a[2]],\n",
    "    mode='lines',\n",
    "    line=dict(color='green', width=4),\n",
    "    name='a'\n",
    ")\n",
    "\n",
    "line_c = go.Scatter3d(\n",
    "    x=[0, r_C[0]], y=[0, r_C[1]], z=[0, r_C[2]],\n",
    "    mode='lines',\n",
    "    line=dict(color='black', width=2),\n",
    "    name='r_c'\n",
    ")\n",
    "\n",
    "\n",
    "circle = go.Scatter3d(\n",
    "    x = circle_x, y = circle_y, z = circle_z,\n",
    "    mode='lines',\n",
    "    line=dict(color='black', width=4),\n",
    "    name='Osculating Circle'\n",
    ")\n",
    "\n",
    "# Combine all traces\n",
    "fig = go.Figure(data=[quiver_r, quiver_v, quiver_a, quiver_c, line_r, line_v, line_a, line_c, circle])\n",
    "\n",
    "# Update layout for better visualization\n",
    "fig.update_layout(\n",
    "    title=f'Center = {r_C.round(2)}, Radius = {Rho.round(2)}',\n",
    "    scene=dict(\n",
    "        xaxis_title='X',\n",
    "        yaxis_title='Y',\n",
    "        zaxis_title='Z',\n",
    "    ),\n",
    "    showlegend=True,\n",
    "    width=800,\n",
    "    height=800\n",
    ")"
   ]
  },
  {
   "cell_type": "markdown",
   "id": "79db3165",
   "metadata": {},
   "source": [
    "## 1.3 Mass, Force, and Newton's Law of Gravitation\n",
    "\n",
    "Newton's Law of Universal Gravitation states that every particle in the universe attracts every other particle with a force that is directly proportional to the product of their masses and inversely proportional to the square of the distance between their centers.\n",
    "$$\n",
    "    F_g = \\frac{Gm_1m_2}{r^2}\n",
    "$$\n",
    "\n",
    "The weight $W$ of a small body with a mass $m$ much smaller than the Earth's mass $M$ is given by\n",
    "$$\n",
    "    W = \\frac{GMm}{r^2} = mg\n",
    "$$\n",
    "\n",
    "where, \n",
    "$$\n",
    "    g = \\frac{GM}{r^2}\n",
    "$$\n",
    "\n",
    "For $r = R_E = 6378$ $km$, the value of the gravitational acceleration $g$ is given by $g_o = 9.807$ $m/s^2$. The general acceleration $g$ can be written in terms of $g_o$, $R_E$ and height from the surface $h$ by\n",
    "$$\n",
    "    g = g_o\\frac{R_E^2}{(R_E + h)^2} = \\frac{g_o}{(1 + h/R_E)^2}\n",
    "$$\n"
   ]
  },
  {
   "cell_type": "code",
   "execution_count": null,
   "id": "98a368db",
   "metadata": {},
   "outputs": [],
   "source": []
  },
  {
   "cell_type": "code",
   "execution_count": 3,
   "id": "129b4c8b",
   "metadata": {
    "execution": {
     "iopub.execute_input": "2025-09-16T21:51:08.371237Z",
     "iopub.status.busy": "2025-09-16T21:51:08.371037Z",
     "iopub.status.idle": "2025-09-16T21:51:08.375017Z",
     "shell.execute_reply": "2025-09-16T21:51:08.374369Z"
    }
   },
   "outputs": [],
   "source": [
    "# Gravitational constant\n",
    "G = 6.67430e-11  # m^3 kg^-1 s^-2\n",
    "\n",
    "# Mass of two bodies\n",
    "M = Earth.mass.value  # Mass of Earth in kg\n",
    "R_E = Earth.R.value\n",
    "g0 = G*M/R_E**2\n",
    "\n",
    "h = np.linspace(0, 1000, 2000)\n",
    "g = g0 / (1 + h*1000/R_E)**2"
   ]
  },
  {
   "cell_type": "markdown",
   "id": "e5375b1b",
   "metadata": {},
   "source": [
    "### Visualizing Gravitational Force vs. Distance"
   ]
  },
  {
   "cell_type": "code",
   "execution_count": 4,
   "id": "3c376e90",
   "metadata": {
    "execution": {
     "iopub.execute_input": "2025-09-16T21:51:08.376659Z",
     "iopub.status.busy": "2025-09-16T21:51:08.376466Z",
     "iopub.status.idle": "2025-09-16T21:51:08.512491Z",
     "shell.execute_reply": "2025-09-16T21:51:08.511868Z"
    }
   },
   "outputs": [
    {
     "data": {
      "image/png": "[encoded data removed]",
      "text/plain": [
       "<Figure size 700x350 with 1 Axes>"
      ]
     },
     "metadata": {},
     "output_type": "display_data"
    }
   ],
   "source": [
    "plt.figure(figsize=(7, 3.5))\n",
    "plt.plot(h, g/g0, 'k', lw=1)\n",
    "plt.xlabel('h [km]', size=12.5)\n",
    "plt.xticks(size=12)\n",
    "plt.yticks(size=12)\n",
    "plt.ylabel('g/g$_o$', size=14)\n",
    "plt.grid(ls='--', alpha=0.6)\n",
    "plt.ylim(0, 1.01)\n",
    "plt.xlim(0, 1000)\n",
    "plt.tight_layout()"
   ]
  },
  {
   "cell_type": "markdown",
   "id": "23f6948a",
   "metadata": {},
   "source": [
    "## 1.4 Newton's Law of Motion\n",
    "\n",
    "Newton's Second Law of Motion states that the acceleration of an object is directly proportional to the net force acting on it and inversely proportional to its mass. In an inertial reference frame with a net force on a point mass $(\\vec F_{\\text{net}})$, the second law can be given as\n",
    "\n",
    "$$\n",
    "    \\vec F_{\\text{net}} = m\\vec a\n",
    "$$\n",
    "where $\\vec a$ is the absolute acceleration in the inertial frame of reference. \n",
    "\n",
    "The total impulse $\\vec I$ due to this net force over a time period $\\Delta t$ is given by,\n",
    "$$\n",
    "    \\vec I = \\int_{t_1}^{t_2}\\vec F_{\\text{net}}dt\n",
    "$$\n",
    "For a constant mass over the time duration $\\Delta t$,\n",
    "$$\n",
    "    \\vec I = m\\int_{t_1}^{t_2}\\frac{d\\vec v}{dt}dt = m(\\vec v_2 - \\vec v_1) = m\\Delta \\vec v\n",
    "$$\n",
    "\n",
    "If the net force remains constant for the period $\\Delta t$, $\\vec I$ can be equated to $\\vec F_{\\text{net}}\\Delta t$, giving\n",
    "$$\n",
    "    \\vec F_{\\text{net}} = m\\frac{\\Delta \\vec v}{\\Delta t}\n",
    "$$\n",
    "\n",
    "This $\\vec F_{\\text{net}}$ also induces a net moment about a point $O$ $(\\vec M_{O\\text{net}})$, given by\n",
    "$$\n",
    "    \\vec M_{O\\text{net}} = \\vec r\\times\\vec F_{\\text{net}} = \\vec r\\times m\\vec a = \\vec r\\times m\\frac{d\\vec v}{dt}\n",
    "$$\n",
    "\n",
    "The last term in the above equation can be simplified as\n",
    "$$\n",
    "    \\vec r\\times m\\frac{d\\vec v}{dt} = \\frac{d}{dt}(\\vec r \\times m\\vec v) - \\underbrace{\\frac{d\\vec r}{dt}\\times m \\vec v}_{\\vec v\\times \\vec v = 0} = \\frac{d\\vec H_O}{dt}\n",
    "$$\n",
    "where $\\vec H_O = \\vec r \\times m\\vec v$ is the angular momentum about $O$.\n",
    "\n",
    "Therefore, the Angular Impulse is given by\n",
    "$$\n",
    "    \\int_{t_1}^{t_2}\\vec M_{O\\text{net}}dt = \\vec H_{O_2} - \\vec H_{O_1}\n",
    "$$\n",
    "\n",
    "\n"
   ]
  },
  {
   "cell_type": "code",
   "execution_count": 2,
   "id": "c7109863",
   "metadata": {},
   "outputs": [],
   "source": [
    "import sympy as sp\n",
    "sp.init_printing()"
   ]
  },
  {
   "cell_type": "code",
   "execution_count": 48,
   "id": "5f00b14b",
   "metadata": {},
   "outputs": [],
   "source": [
    "c, d, l, u, m = sp.symbols('c d l u m', real=True, positive=True)\n",
    "vx, vy = sp.symbols('v_x v_y', real=True)\n"
   ]
  },
  {
   "cell_type": "code",
   "execution_count": 49,
   "id": "47875688",
   "metadata": {},
   "outputs": [],
   "source": [
    "r0 = sp.Matrix([c, d, 0])\n",
    "v0 = sp.Matrix([-u, 0, 0])\n",
    "\n",
    "r1 = sp.Matrix([-sp.sqrt(l**2 - d**2), d, 0])\n",
    "v1 = sp.Matrix([vx, vy, 0])\n",
    "\n",
    "H0 = r0.cross(m*v0)\n",
    "H1 = r1.cross(m*v1)"
   ]
  },
  {
   "cell_type": "code",
   "execution_count": 50,
   "id": "6fe33404",
   "metadata": {},
   "outputs": [],
   "source": [
    "eq1 = sp.Eq(H0[2], H1[2])\n",
    "eq2 = sp.Eq(r1.dot(v1), 0)\n",
    "\n",
    "sol = sp.solve([eq1, eq2], [vx, vy], dict=True)[0]\n"
   ]
  },
  {
   "cell_type": "code",
   "execution_count": 51,
   "id": "49c8dc27",
   "metadata": {},
   "outputs": [],
   "source": [
    "v1_sub = v1.subs(sol)"
   ]
  },
  {
   "cell_type": "code",
   "execution_count": 52,
   "id": "427a8df7",
   "metadata": {},
   "outputs": [
    {
     "data": {
      "image/png": "[encoded data removed]",
      "text/latex": [
       "$\\displaystyle \\frac{d u}{l}$"
      ],
      "text/plain": [
       "d⋅u\n",
       "───\n",
       " l "
      ]
     },
     "execution_count": 52,
     "metadata": {},
     "output_type": "execute_result"
    }
   ],
   "source": [
    "sp.sqrt(sp.simplify(v1_sub.dot(v1_sub)))"
   ]
  },
  {
   "cell_type": "code",
   "execution_count": 59,
   "id": "fb9e5d2a",
   "metadata": {},
   "outputs": [],
   "source": [
    "I = m*(v1_sub - v0)\n",
    "IMag = sp.sqrt(sp.simplify(I.dot(I)))"
   ]
  },
  {
   "cell_type": "code",
   "execution_count": 60,
   "id": "1ebca770",
   "metadata": {},
   "outputs": [
    {
     "data": {
      "image/png": "[encoded data removed]",
      "text/latex": [
       "$\\displaystyle \\frac{m u \\sqrt{- d^{2} + l^{2}}}{l}$"
      ],
      "text/plain": [
       "       ___________\n",
       "      ╱    2    2 \n",
       "m⋅u⋅╲╱  - d  + l  \n",
       "──────────────────\n",
       "        l         "
      ]
     },
     "execution_count": 60,
     "metadata": {},
     "output_type": "execute_result"
    }
   ],
   "source": [
    "IMag"
   ]
  },
  {
   "cell_type": "markdown",
   "id": "5214f02d",
   "metadata": {},
   "source": [
    "## 1.5 Time Derivatives of Moving Vectors\n",
    "\n",
    "When dealing with rotating reference frames, the time derivative of a vector has additional terms to account for the rotation of the frame. This is crucial for understanding phenomena like the Coriolis and centrifugal forces."
   ]
  },
  {
   "cell_type": "code",
   "execution_count": 6,
   "id": "53824b34",
   "metadata": {
    "execution": {
     "iopub.execute_input": "2025-09-16T21:51:08.639309Z",
     "iopub.status.busy": "2025-09-16T21:51:08.639101Z",
     "iopub.status.idle": "2025-09-16T21:51:08.643342Z",
     "shell.execute_reply": "2025-09-16T21:51:08.642767Z"
    }
   },
   "outputs": [
    {
     "name": "stdout",
     "output_type": "stream",
     "text": [
      "Magnitude of inertial velocity: 6.28 m/s\n",
      "Magnitude of centrifugal acceleration: 39.48 m/s^2\n"
     ]
    }
   ],
   "source": [
    "# This is a conceptual illustration. A full simulation is more complex.\n",
    "# Let's consider a simple case of a point on a rotating disk.\n",
    "\n",
    "omega = 2 * np.pi  # rad/s (1 revolution per second)\n",
    "R = 1  # meter\n",
    "\n",
    "# Position of the point in the rotating frame\n",
    "r_rot = np.array([R, 0])\n",
    "\n",
    "# Velocity in the rotating frame is zero\n",
    "v_rot = np.array([0, 0])\n",
    "\n",
    "# In the inertial frame, the velocity is tangential\n",
    "v_inertial_mag = omega * R\n",
    "print(f'Magnitude of inertial velocity: {v_inertial_mag:.2f} m/s')\n",
    "\n",
    "# Centrifugal acceleration (outward)\n",
    "a_centrifugal_mag = omega**2 * R\n",
    "print(f'Magnitude of centrifugal acceleration: {a_centrifugal_mag:.2f} m/s^2')"
   ]
  },
  {
   "cell_type": "markdown",
   "id": "229fb929",
   "metadata": {},
   "source": [
    "## 1.6 Relative Motion\n",
    "\n",
    "The motion of an object as observed from another moving object is called relative motion. We can describe the position, velocity, and acceleration of a body relative to another."
   ]
  },
  {
   "cell_type": "code",
   "execution_count": 7,
   "id": "0363fee2",
   "metadata": {
    "execution": {
     "iopub.execute_input": "2025-09-16T21:51:08.645381Z",
     "iopub.status.busy": "2025-09-16T21:51:08.645126Z",
     "iopub.status.idle": "2025-09-16T21:51:08.803224Z",
     "shell.execute_reply": "2025-09-16T21:51:08.802275Z"
    }
   },
   "outputs": [
    {
     "data": {
      "image/png": "[encoded data removed]",
      "text/plain": [
       "<Figure size 640x480 with 1 Axes>"
      ]
     },
     "metadata": {},
     "output_type": "display_data"
    }
   ],
   "source": [
    "# Two objects moving in 2D space\n",
    "\n",
    "# Object A\n",
    "rA_initial = np.array([0, 0])\n",
    "vA = np.array([10, 5])  # m/s\n",
    "\n",
    "# Object B\n",
    "rB_initial = np.array([50, 20])\n",
    "vB = np.array([-5, 10])  # m/s\n",
    "\n",
    "# Time array\n",
    "t = np.linspace(0, 5, 100)\n",
    "\n",
    "# Positions of A and B over time\n",
    "rA = rA_initial + vA * t[:, np.newaxis]\n",
    "rB = rB_initial + vB * t[:, np.newaxis]\n",
    "\n",
    "# Relative position of B with respect to A\n",
    "r_B_wrt_A = rB - rA\n",
    "\n",
    "# Plotting the motion\n",
    "plt.figure()\n",
    "plt.plot(rA[:, 0], rA[:, 1], label='Object A')\n",
    "plt.plot(rB[:, 0], rB[:, 1], label='Object B')\n",
    "plt.plot(r_B_wrt_A[:, 0], r_B_wrt_A[:, 1], label='Relative Motion of B wrt A', linestyle='--')\n",
    "plt.xlabel('X position (m)')\n",
    "plt.ylabel('Y position (m)')\n",
    "plt.title('Relative Motion of Two Objects')\n",
    "plt.legend()\n",
    "plt.grid(True)\n",
    "plt.axis('equal')\n",
    "plt.show()"
   ]
  }
 ],
 "metadata": {
  "kernelspec": {
   "display_name": ".venv (3.10.10)",
   "language": "python",
   "name": "python3"
  },
  "language_info": {
   "codemirror_mode": {
    "name": "ipython",
    "version": 3
   },
   "file_extension": ".py",
   "mimetype": "text/x-python",
   "name": "python",
   "nbconvert_exporter": "python",
   "pygments_lexer": "ipython3",
   "version": "3.10.10"
  }
 },
 "nbformat": 4,
 "nbformat_minor": 5
}
