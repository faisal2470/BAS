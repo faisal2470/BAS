{
 "cells": [
  {
   "cell_type": "code",
   "execution_count": 19,
   "id": "20f3faec",
   "metadata": {},
   "outputs": [],
   "source": [
    "import numpy as np\n",
    "import matplotlib.pyplot as plt\n",
    "import plotly.graph_objects as go\n",
    "from poliastro.bodies import Earth\n",
    "plt.rcParams['font.family'] = 'Serif'"
   ]
  },
  {
   "cell_type": "markdown",
   "id": "88153e63",
   "metadata": {},
   "source": [
    "# Chapter 1: Dynamics of Point Masses"
   ]
  },
  {
   "cell_type": "markdown",
   "id": "025599ac",
   "metadata": {},
   "source": [
    "## 1.1 Introduction\n",
    "\n",
    "This notebook covers the fundamental concepts of the dynamics of point masses, which is the foundation of orbital mechanics. We will explore kinematics, Newton's laws of motion and gravitation, and relative motion. Interactive code examples will help illustrate these concepts."
   ]
  },
  {
   "cell_type": "markdown",
   "id": "fbcfc6e0",
   "metadata": {},
   "source": [
    "## 1.2 Kinematics\n",
    "\n",
    "Kinematics is the branch of mechanics that describes the motion of objects without considering the forces that cause the motion. In this section, we will find the instantaneous centre and the radius of curvature of the path for a given instantaneous position vector $\\vec r(t)$, velocity vector $\\vec v(t)$ and the acceleration vector $\\vec a(t)$.\n",
    "\n",
    "We begin by finding the unit vector tangential to the path, given by\n",
    "$$\n",
    "    \\hat u_t = \\frac{\\vec v}{v}; \\ \\ \\ \\text{where, } \\ v = ||\\vec v||\n",
    "$$\n",
    "\n",
    "The tangential acceleration $a_t$ is then given by $a_t = \\vec a \\cdot \\hat u_t$. Using the relation $||\\vec a||^2 = a_t^2 + a_n^2$, we get the normal component of the accelration as\n",
    "$$\n",
    "    a_n = \\sqrt{||\\vec a||^2 - a_t^2}\n",
    "$$\n",
    "\n",
    "Then, using the relation $\\vec a = a_t\\hat u_t + a_n\\hat u_n$, we get the unit vector normal to the path and pointing towards the centre $\\hat u_n$ as\n",
    "$$\n",
    "    \\hat u_n = \\frac{1}{a_n}(\\vec a - a_t\\hat u_t)\n",
    "$$\n",
    "\n",
    "Moreover, the radius of curvature $\\varrho$ can be obtained from the normal acceleration $a_n$ using\n",
    "$$\n",
    "    \\varrho = \\frac{v^2}{a_n}\n",
    "$$\n",
    "\n",
    "Thus, we get the position of the centre of curvature $C$ with respect to the particle $P$ as $\\vec r_{C/P} = \\varrho\\hat u_n$. From this, we can get the position of $C$ in the cartesian coordinate system as \n",
    "$$\n",
    "    \\vec r_C = \\vec r + \\vec r_{C/P}\n",
    "$$\n",
    "\n",
    "Once the centre and the radius are computed, the osculating circular path as a function of $\\theta$ is given by\n",
    "$$\n",
    "    \\vec r(\\theta) = \\vec r_C + \\vec r_{P/C}(\\theta)\n",
    "$$\n",
    "\n",
    "where, $\\vec r_{P/C}(\\theta) = \\varrho\\sin\\theta\\hat u_t - \\varrho\\cos\\theta\\hat u_n$. The normal to this osculating circle (binormal unit vector) $\\hat u_b$ is then given by\n",
    "$$\n",
    "    \\hat u_b = \\hat u_t \\times \\hat u_n\n",
    "$$"
   ]
  },
  {
   "cell_type": "code",
   "execution_count": 2,
   "id": "de23f720",
   "metadata": {
    "execution": {
     "iopub.execute_input": "2025-09-16T21:51:04.530333Z",
     "iopub.status.busy": "2025-09-16T21:51:04.530127Z",
     "iopub.status.idle": "2025-09-16T21:51:07.772498Z",
     "shell.execute_reply": "2025-09-16T21:51:07.771921Z"
    }
   },
   "outputs": [],
   "source": [
    "# Position vector\n",
    "r = np.array([5, 5, 5])\n",
    "\n",
    "# Velocity vector\n",
    "v = np.array([0, 5, 0])\n",
    "\n",
    "# Acceleration vector\n",
    "a = np.array([-5/2, 0, -5/2])\n",
    "\n",
    "vMag = np.linalg.norm(v)\n",
    "uHat_t = v/vMag\n",
    "\n",
    "a_t = np.dot(a, uHat_t)\n",
    "aMag = np.linalg.norm(a)\n",
    "a_n = np.sqrt(aMag**2 - a_t**2)\n",
    "\n",
    "Rho = vMag**2/a_n\n",
    "uHat_n = (a - a_t*uHat_t)/a_n\n",
    "\n",
    "r_CP = Rho*uHat_n\n",
    "r_C = r + r_CP\n",
    "\n",
    "# Compute binormal unit vector\n",
    "uHat_b = np.cross(uHat_t, uHat_n)\n",
    "uHat_b = uHat_b / np.linalg.norm(uHat_b)  # Ensure unit vector\n",
    "\n",
    "theta = np.linspace(0, 2*np.pi, 100)\n",
    "r_PC = np.array([Rho*np.sin(theta)*uHat_t[0] - Rho*np.cos(theta)*uHat_n[0], \n",
    "                 Rho*np.sin(theta)*uHat_t[1] - Rho*np.cos(theta)*uHat_n[1],\n",
    "                 Rho*np.sin(theta)*uHat_t[2] - Rho*np.cos(theta)*uHat_n[2]]).T\n",
    "circle_x = r_C[0] + r_PC[:, 0]\n",
    "circle_y = r_C[1] + r_PC[:, 1]\n",
    "circle_z = r_C[2] + r_PC[:, 2]"
   ]
  },
  {
   "cell_type": "markdown",
   "id": "da673c5d",
   "metadata": {},
   "source": [
    "### Visualization of Kinematic Vectors"
   ]
  },
  {
   "cell_type": "code",
   "execution_count": 3,
   "id": "23decfda",
   "metadata": {
    "execution": {
     "iopub.execute_input": "2025-09-16T21:51:07.775157Z",
     "iopub.status.busy": "2025-09-16T21:51:07.774771Z",
     "iopub.status.idle": "2025-09-16T21:51:08.369124Z",
     "shell.execute_reply": "2025-09-16T21:51:08.368405Z"
    }
   },
   "outputs": [
    {
     "data": {
      "application/vnd.plotly.v1+json": {
       "config": {
        "plotlyServerURL": "https://plot.ly"
       },
       "data": [
        {
         "colorscale": [
          [
           0,
           "blue"
          ],
          [
           1,
           "blue"
          ]
         ],
         "name": "Position (r)",
         "showscale": false,
         "sizemode": "absolute",
         "sizeref": 0.5,
         "type": "cone",
         "u": [
          5
         ],
         "v": [
          5
         ],
         "w": [
          5
         ],
         "x": [
          5
         ],
         "y": [
          5
         ],
         "z": [
          5
         ]
        },
        {
         "colorscale": [
          [
           0,
           "red"
          ],
          [
           1,
           "red"
          ]
         ],
         "name": "Velocity (v)",
         "showscale": false,
         "sizemode": "absolute",
         "sizeref": 0.5,
         "type": "cone",
         "u": [
          0
         ],
         "v": [
          5
         ],
         "w": [
          0
         ],
         "x": [
          5
         ],
         "y": [
          10
         ],
         "z": [
          5
         ]
        },
        {
         "colorscale": [
          [
           0,
           "green"
          ],
          [
           1,
           "green"
          ]
         ],
         "name": "Acceleration (a)",
         "showscale": false,
         "sizemode": "absolute",
         "sizeref": 0.5,
         "type": "cone",
         "u": [
          -2.5
         ],
         "v": [
          0
         ],
         "w": [
          -2.5
         ],
         "x": [
          2.5
         ],
         "y": [
          5
         ],
         "z": [
          2.5
         ]
        },
        {
         "colorscale": [
          [
           0,
           "black"
          ],
          [
           1,
           "black"
          ]
         ],
         "name": "Acceleration (a)",
         "showscale": false,
         "sizemode": "absolute",
         "sizeref": 0.5,
         "type": "cone",
         "u": [
          8.881784197001252e-16
         ],
         "v": [
          5
         ],
         "w": [
          8.881784197001252e-16
         ],
         "x": [
          8.881784197001252e-16
         ],
         "y": [
          5
         ],
         "z": [
          8.881784197001252e-16
         ]
        },
        {
         "line": {
          "color": "blue",
          "width": 4
         },
         "mode": "lines",
         "name": "r",
         "type": "scatter3d",
         "x": [
          0,
          5
         ],
         "y": [
          0,
          5
         ],
         "z": [
          0,
          5
         ]
        },
        {
         "line": {
          "color": "red",
          "width": 4
         },
         "mode": "lines",
         "name": "v",
         "type": "scatter3d",
         "x": [
          5,
          5
         ],
         "y": [
          5,
          10
         ],
         "z": [
          5,
          5
         ]
        },
        {
         "line": {
          "color": "green",
          "width": 4
         },
         "mode": "lines",
         "name": "a",
         "type": "scatter3d",
         "x": [
          5,
          2.5
         ],
         "y": [
          5,
          5
         ],
         "z": [
          5,
          2.5
         ]
        },
        {
         "line": {
          "color": "black",
          "width": 2
         },
         "mode": "lines",
         "name": "r_c",
         "type": "scatter3d",
         "x": [
          0,
          8.881784197001252e-16
         ],
         "y": [
          0,
          5
         ],
         "z": [
          0,
          8.881784197001252e-16
         ]
        },
        {
         "line": {
          "color": "black",
          "width": 4
         },
         "mode": "lines",
         "name": "Osculating Circle",
         "type": "scatter3d",
         "x": [
          5,
          4.989933382359422,
          4.959774064153977,
          4.909643486313533,
          4.839743506981781,
          4.7503555887047275,
          4.641839665080363,
          4.514632691433106,
          4.369246885348924,
          4.206267664155906,
          4.026351287655293,
          3.8302222155948904,
          3.6186701905253504,
          3.3925470577856616,
          3.152763335422613,
          2.9002845478559913,
          2.6361273380525123,
          2.361355373863414,
          2.0770750650094327,
          1.78443110795936,
          1.484601876641375,
          1.178794677547137,
          0.8682408883346528,
          0.5541909995050562,
          0.23790957911871177,
          -0.07932981917403924,
          -0.3962497842839417,
          -0.7115741913664251,
          -1.0240333403259525,
          -1.332369068450174,
          -1.6353398165871071,
          -1.931725628465642,
          -2.2203330630288693,
          -2.5,
          -2.76960031933055,
          -3.0280484356883326,
          -3.2743036697264234,
          -3.5073744385316057,
          -3.7263222483787715,
          -3.9302654737139355,
          -4.118382907149162,
          -4.289917066174884,
          -4.444177243274615,
          -4.5805422871603465,
          -4.69846310392954,
          -4.797464868072485,
          -4.877148934427034,
          -4.937194443381969,
          -4.977359612865421,
          -4.997482711915923,
          -4.997482711915923,
          -4.977359612865421,
          -4.937194443381969,
          -4.877148934427034,
          -4.797464868072485,
          -4.69846310392954,
          -4.5805422871603465,
          -4.444177243274615,
          -4.289917066174883,
          -4.118382907149162,
          -3.930265473713935,
          -3.7263222483787724,
          -3.507374438531605,
          -3.2743036697264247,
          -3.0280484356883313,
          -2.769600319330551,
          -2.499999999999997,
          -2.2203330630288685,
          -1.931725628465642,
          -1.6353398165871083,
          -1.3323690684501721,
          -1.0240333403259516,
          -0.7115741913664251,
          -0.396249784283943,
          -0.07932981917403714,
          0.23790957911871274,
          0.5541909995050551,
          0.8682408883346506,
          1.178794677547138,
          1.484601876641375,
          1.7844311079593589,
          2.0770750650094345,
          2.3613553738634145,
          2.6361273380525123,
          2.90028454785599,
          3.1527633354226143,
          3.3925470577856616,
          3.6186701905253504,
          3.830222215594889,
          4.026351287655294,
          4.206267664155906,
          4.369246885348924,
          4.514632691433105,
          4.641839665080363,
          4.7503555887047275,
          4.839743506981781,
          4.909643486313534,
          4.959774064153977,
          4.989933382359422,
          5
         ],
         "y": [
          5,
          5.448474836785875,
          5.895143823690413,
          6.338208382352384,
          6.775884448170932,
          7.206409654104046,
          7.628050427098621,
          8.039108968577292,
          8.437930090874076,
          8.822907882090913,
          9.192492172538087,
          9.545194776720436,
          9.879595485735107,
          10.194347785951544,
          10.488184280946637,
          10.759921794862803,
          11.008466136639562,
          11.232816505934757,
          11.4320695229943,
          11.605422866243604,
          11.752178502953385,
          11.871745499971102,
          11.96364240320019,
          12.027499176245783,
          12.063058690420682,
          12.070177760111807,
          12.04882771933815,
          11.999094537178536,
          11.92117847160451,
          11.815393263112146,
          11.682164871399813,
          11.522029760178807,
          11.335632737023325,
          11.123724356957943,
          10.88715790023745,
          10.626885936488392,
          10.343956489047429,
          10.039508814941211,
          9.714768817500463,
          9.371044110079914,
          9.009718750760857,
          8.632247669237731,
          8.240150808329767,
          7.835007003707696,
          7.418447626479754,
          6.992150014235993,
          6.557830717001842,
          6.117238585296965,
          5.672147728131495,
          5.224350369295195,
          4.775649630704804,
          4.327852271868504,
          3.882761414703033,
          3.44216928299816,
          3.0078499857640053,
          2.581552373520248,
          2.1649929962923022,
          1.7598491916702335,
          1.3677523307622685,
          0.9902812492391444,
          0.6289558899200847,
          0.28523118249953683,
          -0.03950881494121372,
          -0.3439564890474278,
          -0.6268859364883941,
          -0.8871579002374483,
          -1.123724356957946,
          -1.3356327370233254,
          -1.5220297601788069,
          -1.682164871399812,
          -1.8153932631121457,
          -1.9211784716045095,
          -1.9990945371785358,
          -2.0488277193381483,
          -2.0701777601118083,
          -2.0630586904206814,
          -2.027499176245783,
          -1.963642403200189,
          -1.8717454999711007,
          -1.7521785029533845,
          -1.6054228662436039,
          -1.4320695229942988,
          -1.232816505934756,
          -1.0084661366395622,
          -0.7599217948628043,
          -0.48818428094663613,
          -0.19434778595154345,
          0.12040451426489263,
          0.4548052232795614,
          0.8075078274619152,
          1.177092117909087,
          1.5620699091259223,
          1.960891031422705,
          2.371949572901381,
          2.7935903458959546,
          3.2241155518290667,
          3.6617916176476193,
          4.104856176309589,
          4.551525163214125,
          4.999999999999998
         ],
         "z": [
          5,
          4.989933382359422,
          4.959774064153977,
          4.909643486313533,
          4.839743506981781,
          4.7503555887047275,
          4.641839665080363,
          4.514632691433106,
          4.369246885348924,
          4.206267664155906,
          4.026351287655293,
          3.8302222155948904,
          3.6186701905253504,
          3.3925470577856616,
          3.152763335422613,
          2.9002845478559913,
          2.6361273380525123,
          2.361355373863414,
          2.0770750650094327,
          1.78443110795936,
          1.484601876641375,
          1.178794677547137,
          0.8682408883346528,
          0.5541909995050562,
          0.23790957911871177,
          -0.07932981917403924,
          -0.3962497842839417,
          -0.7115741913664251,
          -1.0240333403259525,
          -1.332369068450174,
          -1.6353398165871071,
          -1.931725628465642,
          -2.2203330630288693,
          -2.5,
          -2.76960031933055,
          -3.0280484356883326,
          -3.2743036697264234,
          -3.5073744385316057,
          -3.7263222483787715,
          -3.9302654737139355,
          -4.118382907149162,
          -4.289917066174884,
          -4.444177243274615,
          -4.5805422871603465,
          -4.69846310392954,
          -4.797464868072485,
          -4.877148934427034,
          -4.937194443381969,
          -4.977359612865421,
          -4.997482711915923,
          -4.997482711915923,
          -4.977359612865421,
          -4.937194443381969,
          -4.877148934427034,
          -4.797464868072485,
          -4.69846310392954,
          -4.5805422871603465,
          -4.444177243274615,
          -4.289917066174883,
          -4.118382907149162,
          -3.930265473713935,
          -3.7263222483787724,
          -3.507374438531605,
          -3.2743036697264247,
          -3.0280484356883313,
          -2.769600319330551,
          -2.499999999999997,
          -2.2203330630288685,
          -1.931725628465642,
          -1.6353398165871083,
          -1.3323690684501721,
          -1.0240333403259516,
          -0.7115741913664251,
          -0.396249784283943,
          -0.07932981917403714,
          0.23790957911871274,
          0.5541909995050551,
          0.8682408883346506,
          1.178794677547138,
          1.484601876641375,
          1.7844311079593589,
          2.0770750650094345,
          2.3613553738634145,
          2.6361273380525123,
          2.90028454785599,
          3.1527633354226143,
          3.3925470577856616,
          3.6186701905253504,
          3.830222215594889,
          4.026351287655294,
          4.206267664155906,
          4.369246885348924,
          4.514632691433105,
          4.641839665080363,
          4.7503555887047275,
          4.839743506981781,
          4.909643486313534,
          4.959774064153977,
          4.989933382359422,
          5
         ]
        }
       ],
       "layout": {
        "height": 800,
        "scene": {
         "xaxis": {
          "title": {
           "text": "X"
          }
         },
         "yaxis": {
          "title": {
           "text": "Y"
          }
         },
         "zaxis": {
          "title": {
           "text": "Z"
          }
         }
        },
        "showlegend": true,
        "template": {
         "data": {
          "bar": [
           {
            "error_x": {
             "color": "#2a3f5f"
            },
            "error_y": {
             "color": "#2a3f5f"
            },
            "marker": {
             "line": {
              "color": "#E5ECF6",
              "width": 0.5
             },
             "pattern": {
              "fillmode": "overlay",
              "size": 10,
              "solidity": 0.2
             }
            },
            "type": "bar"
           }
          ],
          "barpolar": [
           {
            "marker": {
             "line": {
              "color": "#E5ECF6",
              "width": 0.5
             },
             "pattern": {
              "fillmode": "overlay",
              "size": 10,
              "solidity": 0.2
             }
            },
            "type": "barpolar"
           }
          ],
          "carpet": [
           {
            "aaxis": {
             "endlinecolor": "#2a3f5f",
             "gridcolor": "white",
             "linecolor": "white",
             "minorgridcolor": "white",
             "startlinecolor": "#2a3f5f"
            },
            "baxis": {
             "endlinecolor": "#2a3f5f",
             "gridcolor": "white",
             "linecolor": "white",
             "minorgridcolor": "white",
             "startlinecolor": "#2a3f5f"
            },
            "type": "carpet"
           }
          ],
          "choropleth": [
           {
            "colorbar": {
             "outlinewidth": 0,
             "ticks": ""
            },
            "type": "choropleth"
           }
          ],
          "contour": [
           {
            "colorbar": {
             "outlinewidth": 0,
             "ticks": ""
            },
            "colorscale": [
             [
              0,
              "#0d0887"
             ],
             [
              0.1111111111111111,
              "#46039f"
             ],
             [
              0.2222222222222222,
              "#7201a8"
             ],
             [
              0.3333333333333333,
              "#9c179e"
             ],
             [
              0.4444444444444444,
              "#bd3786"
             ],
             [
              0.5555555555555556,
              "#d8576b"
             ],
             [
              0.6666666666666666,
              "#ed7953"
             ],
             [
              0.7777777777777778,
              "#fb9f3a"
             ],
             [
              0.8888888888888888,
              "#fdca26"
             ],
             [
              1,
              "#f0f921"
             ]
            ],
            "type": "contour"
           }
          ],
          "contourcarpet": [
           {
            "colorbar": {
             "outlinewidth": 0,
             "ticks": ""
            },
            "type": "contourcarpet"
           }
          ],
          "heatmap": [
           {
            "colorbar": {
             "outlinewidth": 0,
             "ticks": ""
            },
            "colorscale": [
             [
              0,
              "#0d0887"
             ],
             [
              0.1111111111111111,
              "#46039f"
             ],
             [
              0.2222222222222222,
              "#7201a8"
             ],
             [
              0.3333333333333333,
              "#9c179e"
             ],
             [
              0.4444444444444444,
              "#bd3786"
             ],
             [
              0.5555555555555556,
              "#d8576b"
             ],
             [
              0.6666666666666666,
              "#ed7953"
             ],
             [
              0.7777777777777778,
              "#fb9f3a"
             ],
             [
              0.8888888888888888,
              "#fdca26"
             ],
             [
              1,
              "#f0f921"
             ]
            ],
            "type": "heatmap"
           }
          ],
          "heatmapgl": [
           {
            "colorbar": {
             "outlinewidth": 0,
             "ticks": ""
            },
            "colorscale": [
             [
              0,
              "#0d0887"
             ],
             [
              0.1111111111111111,
              "#46039f"
             ],
             [
              0.2222222222222222,
              "#7201a8"
             ],
             [
              0.3333333333333333,
              "#9c179e"
             ],
             [
              0.4444444444444444,
              "#bd3786"
             ],
             [
              0.5555555555555556,
              "#d8576b"
             ],
             [
              0.6666666666666666,
              "#ed7953"
             ],
             [
              0.7777777777777778,
              "#fb9f3a"
             ],
             [
              0.8888888888888888,
              "#fdca26"
             ],
             [
              1,
              "#f0f921"
             ]
            ],
            "type": "heatmapgl"
           }
          ],
          "histogram": [
           {
            "marker": {
             "pattern": {
              "fillmode": "overlay",
              "size": 10,
              "solidity": 0.2
             }
            },
            "type": "histogram"
           }
          ],
          "histogram2d": [
           {
            "colorbar": {
             "outlinewidth": 0,
             "ticks": ""
            },
            "colorscale": [
             [
              0,
              "#0d0887"
             ],
             [
              0.1111111111111111,
              "#46039f"
             ],
             [
              0.2222222222222222,
              "#7201a8"
             ],
             [
              0.3333333333333333,
              "#9c179e"
             ],
             [
              0.4444444444444444,
              "#bd3786"
             ],
             [
              0.5555555555555556,
              "#d8576b"
             ],
             [
              0.6666666666666666,
              "#ed7953"
             ],
             [
              0.7777777777777778,
              "#fb9f3a"
             ],
             [
              0.8888888888888888,
              "#fdca26"
             ],
             [
              1,
              "#f0f921"
             ]
            ],
            "type": "histogram2d"
           }
          ],
          "histogram2dcontour": [
           {
            "colorbar": {
             "outlinewidth": 0,
             "ticks": ""
            },
            "colorscale": [
             [
              0,
              "#0d0887"
             ],
             [
              0.1111111111111111,
              "#46039f"
             ],
             [
              0.2222222222222222,
              "#7201a8"
             ],
             [
              0.3333333333333333,
              "#9c179e"
             ],
             [
              0.4444444444444444,
              "#bd3786"
             ],
             [
              0.5555555555555556,
              "#d8576b"
             ],
             [
              0.6666666666666666,
              "#ed7953"
             ],
             [
              0.7777777777777778,
              "#fb9f3a"
             ],
             [
              0.8888888888888888,
              "#fdca26"
             ],
             [
              1,
              "#f0f921"
             ]
            ],
            "type": "histogram2dcontour"
           }
          ],
          "mesh3d": [
           {
            "colorbar": {
             "outlinewidth": 0,
             "ticks": ""
            },
            "type": "mesh3d"
           }
          ],
          "parcoords": [
           {
            "line": {
             "colorbar": {
              "outlinewidth": 0,
              "ticks": ""
             }
            },
            "type": "parcoords"
           }
          ],
          "pie": [
           {
            "automargin": true,
            "type": "pie"
           }
          ],
          "scatter": [
           {
            "fillpattern": {
             "fillmode": "overlay",
             "size": 10,
             "solidity": 0.2
            },
            "type": "scatter"
           }
          ],
          "scatter3d": [
           {
            "line": {
             "colorbar": {
              "outlinewidth": 0,
              "ticks": ""
             }
            },
            "marker": {
             "colorbar": {
              "outlinewidth": 0,
              "ticks": ""
             }
            },
            "type": "scatter3d"
           }
          ],
          "scattercarpet": [
           {
            "marker": {
             "colorbar": {
              "outlinewidth": 0,
              "ticks": ""
             }
            },
            "type": "scattercarpet"
           }
          ],
          "scattergeo": [
           {
            "marker": {
             "colorbar": {
              "outlinewidth": 0,
              "ticks": ""
             }
            },
            "type": "scattergeo"
           }
          ],
          "scattergl": [
           {
            "marker": {
             "colorbar": {
              "outlinewidth": 0,
              "ticks": ""
             }
            },
            "type": "scattergl"
           }
          ],
          "scattermapbox": [
           {
            "marker": {
             "colorbar": {
              "outlinewidth": 0,
              "ticks": ""
             }
            },
            "type": "scattermapbox"
           }
          ],
          "scatterpolar": [
           {
            "marker": {
             "colorbar": {
              "outlinewidth": 0,
              "ticks": ""
             }
            },
            "type": "scatterpolar"
           }
          ],
          "scatterpolargl": [
           {
            "marker": {
             "colorbar": {
              "outlinewidth": 0,
              "ticks": ""
             }
            },
            "type": "scatterpolargl"
           }
          ],
          "scatterternary": [
           {
            "marker": {
             "colorbar": {
              "outlinewidth": 0,
              "ticks": ""
             }
            },
            "type": "scatterternary"
           }
          ],
          "surface": [
           {
            "colorbar": {
             "outlinewidth": 0,
             "ticks": ""
            },
            "colorscale": [
             [
              0,
              "#0d0887"
             ],
             [
              0.1111111111111111,
              "#46039f"
             ],
             [
              0.2222222222222222,
              "#7201a8"
             ],
             [
              0.3333333333333333,
              "#9c179e"
             ],
             [
              0.4444444444444444,
              "#bd3786"
             ],
             [
              0.5555555555555556,
              "#d8576b"
             ],
             [
              0.6666666666666666,
              "#ed7953"
             ],
             [
              0.7777777777777778,
              "#fb9f3a"
             ],
             [
              0.8888888888888888,
              "#fdca26"
             ],
             [
              1,
              "#f0f921"
             ]
            ],
            "type": "surface"
           }
          ],
          "table": [
           {
            "cells": {
             "fill": {
              "color": "#EBF0F8"
             },
             "line": {
              "color": "white"
             }
            },
            "header": {
             "fill": {
              "color": "#C8D4E3"
             },
             "line": {
              "color": "white"
             }
            },
            "type": "table"
           }
          ]
         },
         "layout": {
          "annotationdefaults": {
           "arrowcolor": "#2a3f5f",
           "arrowhead": 0,
           "arrowwidth": 1
          },
          "autotypenumbers": "strict",
          "coloraxis": {
           "colorbar": {
            "outlinewidth": 0,
            "ticks": ""
           }
          },
          "colorscale": {
           "diverging": [
            [
             0,
             "#8e0152"
            ],
            [
             0.1,
             "#c51b7d"
            ],
            [
             0.2,
             "#de77ae"
            ],
            [
             0.3,
             "#f1b6da"
            ],
            [
             0.4,
             "#fde0ef"
            ],
            [
             0.5,
             "#f7f7f7"
            ],
            [
             0.6,
             "#e6f5d0"
            ],
            [
             0.7,
             "#b8e186"
            ],
            [
             0.8,
             "#7fbc41"
            ],
            [
             0.9,
             "#4d9221"
            ],
            [
             1,
             "#276419"
            ]
           ],
           "sequential": [
            [
             0,
             "#0d0887"
            ],
            [
             0.1111111111111111,
             "#46039f"
            ],
            [
             0.2222222222222222,
             "#7201a8"
            ],
            [
             0.3333333333333333,
             "#9c179e"
            ],
            [
             0.4444444444444444,
             "#bd3786"
            ],
            [
             0.5555555555555556,
             "#d8576b"
            ],
            [
             0.6666666666666666,
             "#ed7953"
            ],
            [
             0.7777777777777778,
             "#fb9f3a"
            ],
            [
             0.8888888888888888,
             "#fdca26"
            ],
            [
             1,
             "#f0f921"
            ]
           ],
           "sequentialminus": [
            [
             0,
             "#0d0887"
            ],
            [
             0.1111111111111111,
             "#46039f"
            ],
            [
             0.2222222222222222,
             "#7201a8"
            ],
            [
             0.3333333333333333,
             "#9c179e"
            ],
            [
             0.4444444444444444,
             "#bd3786"
            ],
            [
             0.5555555555555556,
             "#d8576b"
            ],
            [
             0.6666666666666666,
             "#ed7953"
            ],
            [
             0.7777777777777778,
             "#fb9f3a"
            ],
            [
             0.8888888888888888,
             "#fdca26"
            ],
            [
             1,
             "#f0f921"
            ]
           ]
          },
          "colorway": [
           "#636efa",
           "#EF553B",
           "#00cc96",
           "#ab63fa",
           "#FFA15A",
           "#19d3f3",
           "#FF6692",
           "#B6E880",
           "#FF97FF",
           "#FECB52"
          ],
          "font": {
           "color": "#2a3f5f"
          },
          "geo": {
           "bgcolor": "white",
           "lakecolor": "white",
           "landcolor": "#E5ECF6",
           "showlakes": true,
           "showland": true,
           "subunitcolor": "white"
          },
          "hoverlabel": {
           "align": "left"
          },
          "hovermode": "closest",
          "mapbox": {
           "style": "light"
          },
          "paper_bgcolor": "white",
          "plot_bgcolor": "#E5ECF6",
          "polar": {
           "angularaxis": {
            "gridcolor": "white",
            "linecolor": "white",
            "ticks": ""
           },
           "bgcolor": "#E5ECF6",
           "radialaxis": {
            "gridcolor": "white",
            "linecolor": "white",
            "ticks": ""
           }
          },
          "scene": {
           "xaxis": {
            "backgroundcolor": "#E5ECF6",
            "gridcolor": "white",
            "gridwidth": 2,
            "linecolor": "white",
            "showbackground": true,
            "ticks": "",
            "zerolinecolor": "white"
           },
           "yaxis": {
            "backgroundcolor": "#E5ECF6",
            "gridcolor": "white",
            "gridwidth": 2,
            "linecolor": "white",
            "showbackground": true,
            "ticks": "",
            "zerolinecolor": "white"
           },
           "zaxis": {
            "backgroundcolor": "#E5ECF6",
            "gridcolor": "white",
            "gridwidth": 2,
            "linecolor": "white",
            "showbackground": true,
            "ticks": "",
            "zerolinecolor": "white"
           }
          },
          "shapedefaults": {
           "line": {
            "color": "#2a3f5f"
           }
          },
          "ternary": {
           "aaxis": {
            "gridcolor": "white",
            "linecolor": "white",
            "ticks": ""
           },
           "baxis": {
            "gridcolor": "white",
            "linecolor": "white",
            "ticks": ""
           },
           "bgcolor": "#E5ECF6",
           "caxis": {
            "gridcolor": "white",
            "linecolor": "white",
            "ticks": ""
           }
          },
          "title": {
           "x": 0.05
          },
          "xaxis": {
           "automargin": true,
           "gridcolor": "white",
           "linecolor": "white",
           "ticks": "",
           "title": {
            "standoff": 15
           },
           "zerolinecolor": "white",
           "zerolinewidth": 2
          },
          "yaxis": {
           "automargin": true,
           "gridcolor": "white",
           "linecolor": "white",
           "ticks": "",
           "title": {
            "standoff": 15
           },
           "zerolinecolor": "white",
           "zerolinewidth": 2
          }
         }
        },
        "title": {
         "text": "Center = [0. 5. 0.], Radius = 7.07"
        },
        "width": 800
       }
      }
     },
     "metadata": {},
     "output_type": "display_data"
    }
   ],
   "source": [
    "# Create quiver plot data\n",
    "# Vector r: from origin (0,0,0) to r\n",
    "quiver_r = go.Cone(\n",
    "    x=[r[0]], y=[r[1]], z=[r[2]],\n",
    "    u=[r[0]], v=[r[1]], w=[r[2]],\n",
    "    colorscale=[[0, 'blue'], [1, 'blue']],\n",
    "    sizemode=\"absolute\",\n",
    "    sizeref=0.5,\n",
    "    name='Position (r)',\n",
    "    showscale=False\n",
    ")\n",
    "\n",
    "# Vector v: from r to r+v\n",
    "quiver_v = go.Cone(\n",
    "    x=[r[0] + v[0]], y=[r[1] + v[1]], z=[r[2] + v[2]],\n",
    "    u=[v[0]], v=[v[1]], w=[v[2]],\n",
    "    colorscale=[[0, 'red'], [1, 'red']],\n",
    "    sizemode=\"absolute\",\n",
    "    sizeref=0.5,\n",
    "    name='Velocity (v)',\n",
    "    showscale=False\n",
    ")\n",
    "\n",
    "# Vector a: from r to r+a\n",
    "quiver_a = go.Cone(\n",
    "    x=[r[0] + a[0]], y=[r[1] + a[1]], z=[r[2] + a[2]],\n",
    "    u=[a[0]], v=[a[1]], w=[a[2]],\n",
    "    colorscale=[[0, 'green'], [1, 'green']],\n",
    "    sizemode=\"absolute\",\n",
    "    sizeref=0.5,\n",
    "    name='Acceleration (a)',\n",
    "    showscale=False\n",
    ")\n",
    "\n",
    "quiver_c = go.Cone(\n",
    "    x=[r_C[0]], y=[r_C[1]], z=[r_C[2]],\n",
    "    u=[r_C[0]], v=[r_C[1]], w=[r_C[2]],\n",
    "    colorscale=[[0, 'black'], [1, 'black']],\n",
    "    sizemode=\"absolute\",\n",
    "    sizeref=0.5,\n",
    "    name='Acceleration (a)',\n",
    "    showscale=False\n",
    ")\n",
    "\n",
    "# Create lines to show vector paths\n",
    "# Line for r: from origin to r\n",
    "line_r = go.Scatter3d(\n",
    "    x=[0, r[0]], y=[0, r[1]], z=[0, r[2]],\n",
    "    mode='lines',\n",
    "    line=dict(color='blue', width=4),\n",
    "    name='r'\n",
    ")\n",
    "\n",
    "# Line for v: from r to r+v\n",
    "line_v = go.Scatter3d(\n",
    "    x=[r[0], r[0]+v[0]], y=[r[1], r[1]+v[1]], z=[r[2], r[2]+v[2]],\n",
    "    mode='lines',\n",
    "    line=dict(color='red', width=4),\n",
    "    name='v'\n",
    ")\n",
    "\n",
    "# Line for a: from r to r+a\n",
    "line_a = go.Scatter3d(\n",
    "    x=[r[0], r[0]+a[0]], y=[r[1], r[1]+a[1]], z=[r[2], r[2]+a[2]],\n",
    "    mode='lines',\n",
    "    line=dict(color='green', width=4),\n",
    "    name='a'\n",
    ")\n",
    "\n",
    "line_c = go.Scatter3d(\n",
    "    x=[0, r_C[0]], y=[0, r_C[1]], z=[0, r_C[2]],\n",
    "    mode='lines',\n",
    "    line=dict(color='black', width=2),\n",
    "    name='r_c'\n",
    ")\n",
    "\n",
    "\n",
    "circle = go.Scatter3d(\n",
    "    x = circle_x, y = circle_y, z = circle_z,\n",
    "    mode='lines',\n",
    "    line=dict(color='black', width=4),\n",
    "    name='Osculating Circle'\n",
    ")\n",
    "\n",
    "# Combine all traces\n",
    "fig = go.Figure(data=[quiver_r, quiver_v, quiver_a, quiver_c, line_r, line_v, line_a, line_c, circle])\n",
    "\n",
    "# Update layout for better visualization\n",
    "fig.update_layout(\n",
    "    title=f'Center = {r_C.round(2)}, Radius = {Rho.round(2)}',\n",
    "    scene=dict(\n",
    "        xaxis_title='X',\n",
    "        yaxis_title='Y',\n",
    "        zaxis_title='Z',\n",
    "    ),\n",
    "    showlegend=True,\n",
    "    width=800,\n",
    "    height=800\n",
    ")"
   ]
  },
  {
   "cell_type": "markdown",
   "id": "79db3165",
   "metadata": {},
   "source": [
    "## 1.3 Mass, Force, and Newton's Law of Gravitation\n",
    "\n",
    "Newton's Law of Universal Gravitation states that every particle in the universe attracts every other particle with a force that is directly proportional to the product of their masses and inversely proportional to the square of the distance between their centers.\n",
    "$$\n",
    "    F_g = \\frac{Gm_1m_2}{r^2}\n",
    "$$\n",
    "\n",
    "The weight $W$ of a small body with a mass $m$ much smaller than the Earth's mass $M$ is given by\n",
    "$$\n",
    "    W = \\frac{GMm}{r^2} = mg\n",
    "$$\n",
    "\n",
    "where, \n",
    "$$\n",
    "    g = \\frac{GM}{r^2}\n",
    "$$\n",
    "\n",
    "For $r = R_E = 6378$ $km$, the value of the gravitational acceleration $g$ is given by $g_o = 9.807$ $m/s^2$. The general acceleration $g$ can be written in terms of $g_o$, $R_E$ and height from the surface $h$ by\n",
    "$$\n",
    "    g = g_o\\frac{R_E^2}{(R_E + h)^2} = \\frac{g_o}{(1 + h/R_E)^2}\n",
    "$$\n"
   ]
  },
  {
   "cell_type": "code",
   "execution_count": 26,
   "id": "129b4c8b",
   "metadata": {
    "execution": {
     "iopub.execute_input": "2025-09-16T21:51:08.371237Z",
     "iopub.status.busy": "2025-09-16T21:51:08.371037Z",
     "iopub.status.idle": "2025-09-16T21:51:08.375017Z",
     "shell.execute_reply": "2025-09-16T21:51:08.374369Z"
    }
   },
   "outputs": [],
   "source": [
    "# Gravitational constant\n",
    "G = 6.67430e-11  # m^3 kg^-1 s^-2\n",
    "\n",
    "# Mass of two bodies\n",
    "M = Earth.mass.value  # Mass of Earth in kg\n",
    "R_E = Earth.R.value\n",
    "g0 = G*M/R_E**2\n",
    "\n",
    "h = np.linspace(0, 1000, 2000)\n",
    "g = g0 / (1 + h*1000/R_E)**2"
   ]
  },
  {
   "cell_type": "markdown",
   "id": "e5375b1b",
   "metadata": {},
   "source": [
    "### Visualizing Gravitational Force vs. Distance"
   ]
  },
  {
   "cell_type": "code",
   "execution_count": 40,
   "id": "3c376e90",
   "metadata": {
    "execution": {
     "iopub.execute_input": "2025-09-16T21:51:08.376659Z",
     "iopub.status.busy": "2025-09-16T21:51:08.376466Z",
     "iopub.status.idle": "2025-09-16T21:51:08.512491Z",
     "shell.execute_reply": "2025-09-16T21:51:08.511868Z"
    }
   },
   "outputs": [
    {
     "data": {
      "image/png": "[encoded data removed]",
      "text/plain": [
       "<Figure size 700x350 with 1 Axes>"
      ]
     },
     "metadata": {},
     "output_type": "display_data"
    }
   ],
   "source": [
    "plt.figure(figsize=(7, 3.5))\n",
    "plt.plot(h, g/g0, 'k', lw=1)\n",
    "plt.xlabel('h [km]', size=12.5)\n",
    "plt.xticks(size=12)\n",
    "plt.yticks(size=12)\n",
    "plt.ylabel('g/g$_o$', size=14)\n",
    "plt.grid(ls='--', alpha=0.6)\n",
    "plt.ylim(0, 1.01)\n",
    "plt.xlim(0, 1000)\n",
    "plt.tight_layout()"
   ]
  },
  {
   "cell_type": "markdown",
   "id": "23f6948a",
   "metadata": {},
   "source": [
    "## 1.4 Newton's Law of Motion\n",
    "\n",
    "Newton's Second Law of Motion states that the acceleration of an object is directly proportional to the net force acting on it and inversely proportional to its mass (F=ma)."
   ]
  },
  {
   "cell_type": "code",
   "execution_count": 5,
   "id": "3dcea58f",
   "metadata": {
    "execution": {
     "iopub.execute_input": "2025-09-16T21:51:08.514509Z",
     "iopub.status.busy": "2025-09-16T21:51:08.514314Z",
     "iopub.status.idle": "2025-09-16T21:51:08.637177Z",
     "shell.execute_reply": "2025-09-16T21:51:08.636577Z"
    }
   },
   "outputs": [
    {
     "data": {
      "image/png": "[encoded data removed]",
      "text/plain": [
       "<Figure size 640x480 with 1 Axes>"
      ]
     },
     "metadata": {},
     "output_type": "display_data"
    }
   ],
   "source": [
    "# Simulation of a simple projectile motion under gravity\n",
    "\n",
    "# Initial conditions\n",
    "v0 = 50  # m/s\n",
    "angle = np.deg2rad(45)  # 45 degrees\n",
    "g = 9.81  # m/s^2\n",
    "\n",
    "# Time array\n",
    "t = np.linspace(0, 10, 500)\n",
    "\n",
    "# Parametric equations of motion\n",
    "x = v0 * np.cos(angle) * t\n",
    "y = v0 * np.sin(angle) * t - 0.5 * g * t**2\n",
    "\n",
    "# Plotting the trajectory\n",
    "plt.figure()\n",
    "plt.plot(x, y)\n",
    "plt.xlabel('Horizontal Distance (m)')\n",
    "plt.ylabel('Vertical Distance (m)')\n",
    "plt.title('Projectile Motion')\n",
    "plt.ylim(bottom=0)\n",
    "plt.grid(True)\n",
    "plt.show()"
   ]
  },
  {
   "cell_type": "markdown",
   "id": "5214f02d",
   "metadata": {},
   "source": [
    "## 1.5 Time Derivatives of Moving Vectors\n",
    "\n",
    "When dealing with rotating reference frames, the time derivative of a vector has additional terms to account for the rotation of the frame. This is crucial for understanding phenomena like the Coriolis and centrifugal forces."
   ]
  },
  {
   "cell_type": "code",
   "execution_count": 6,
   "id": "53824b34",
   "metadata": {
    "execution": {
     "iopub.execute_input": "2025-09-16T21:51:08.639309Z",
     "iopub.status.busy": "2025-09-16T21:51:08.639101Z",
     "iopub.status.idle": "2025-09-16T21:51:08.643342Z",
     "shell.execute_reply": "2025-09-16T21:51:08.642767Z"
    }
   },
   "outputs": [
    {
     "name": "stdout",
     "output_type": "stream",
     "text": [
      "Magnitude of inertial velocity: 6.28 m/s\n",
      "Magnitude of centrifugal acceleration: 39.48 m/s^2\n"
     ]
    }
   ],
   "source": [
    "# This is a conceptual illustration. A full simulation is more complex.\n",
    "# Let's consider a simple case of a point on a rotating disk.\n",
    "\n",
    "omega = 2 * np.pi  # rad/s (1 revolution per second)\n",
    "R = 1  # meter\n",
    "\n",
    "# Position of the point in the rotating frame\n",
    "r_rot = np.array([R, 0])\n",
    "\n",
    "# Velocity in the rotating frame is zero\n",
    "v_rot = np.array([0, 0])\n",
    "\n",
    "# In the inertial frame, the velocity is tangential\n",
    "v_inertial_mag = omega * R\n",
    "print(f'Magnitude of inertial velocity: {v_inertial_mag:.2f} m/s')\n",
    "\n",
    "# Centrifugal acceleration (outward)\n",
    "a_centrifugal_mag = omega**2 * R\n",
    "print(f'Magnitude of centrifugal acceleration: {a_centrifugal_mag:.2f} m/s^2')"
   ]
  },
  {
   "cell_type": "markdown",
   "id": "229fb929",
   "metadata": {},
   "source": [
    "## 1.6 Relative Motion\n",
    "\n",
    "The motion of an object as observed from another moving object is called relative motion. We can describe the position, velocity, and acceleration of a body relative to another."
   ]
  },
  {
   "cell_type": "code",
   "execution_count": 7,
   "id": "0363fee2",
   "metadata": {
    "execution": {
     "iopub.execute_input": "2025-09-16T21:51:08.645381Z",
     "iopub.status.busy": "2025-09-16T21:51:08.645126Z",
     "iopub.status.idle": "2025-09-16T21:51:08.803224Z",
     "shell.execute_reply": "2025-09-16T21:51:08.802275Z"
    }
   },
   "outputs": [
    {
     "data": {
      "image/png": "[encoded data removed]",
      "text/plain": [
       "<Figure size 640x480 with 1 Axes>"
      ]
     },
     "metadata": {},
     "output_type": "display_data"
    }
   ],
   "source": [
    "# Two objects moving in 2D space\n",
    "\n",
    "# Object A\n",
    "rA_initial = np.array([0, 0])\n",
    "vA = np.array([10, 5])  # m/s\n",
    "\n",
    "# Object B\n",
    "rB_initial = np.array([50, 20])\n",
    "vB = np.array([-5, 10])  # m/s\n",
    "\n",
    "# Time array\n",
    "t = np.linspace(0, 5, 100)\n",
    "\n",
    "# Positions of A and B over time\n",
    "rA = rA_initial + vA * t[:, np.newaxis]\n",
    "rB = rB_initial + vB * t[:, np.newaxis]\n",
    "\n",
    "# Relative position of B with respect to A\n",
    "r_B_wrt_A = rB - rA\n",
    "\n",
    "# Plotting the motion\n",
    "plt.figure()\n",
    "plt.plot(rA[:, 0], rA[:, 1], label='Object A')\n",
    "plt.plot(rB[:, 0], rB[:, 1], label='Object B')\n",
    "plt.plot(r_B_wrt_A[:, 0], r_B_wrt_A[:, 1], label='Relative Motion of B wrt A', linestyle='--')\n",
    "plt.xlabel('X position (m)')\n",
    "plt.ylabel('Y position (m)')\n",
    "plt.title('Relative Motion of Two Objects')\n",
    "plt.legend()\n",
    "plt.grid(True)\n",
    "plt.axis('equal')\n",
    "plt.show()"
   ]
  }
 ],
 "metadata": {
  "kernelspec": {
   "display_name": "Python 3",
   "language": "python",
   "name": "python3"
  },
  "language_info": {
   "codemirror_mode": {
    "name": "ipython",
    "version": 3
   },
   "file_extension": ".py",
   "mimetype": "text/x-python",
   "name": "python",
   "nbconvert_exporter": "python",
   "pygments_lexer": "ipython3",
   "version": "3.10.12"
  }
 },
 "nbformat": 4,
 "nbformat_minor": 5
}
