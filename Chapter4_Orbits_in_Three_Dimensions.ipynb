{
 "cells": [
  {
   "cell_type": "markdown",
   "id": "14238085",
   "metadata": {},
   "source": [
    "# 4.1 Introduction"
   ]
  },
  {
   "cell_type": "markdown",
   "id": "0206cd4a",
   "metadata": {},
   "source": [
    "# 4.2 Geocentric Right Ascension-Declination Frame"
   ]
  },
  {
   "cell_type": "markdown",
   "id": "df28dd27",
   "metadata": {},
   "source": [
    "# 4.3 State Vector and The Geocentric Equatorial Frame"
   ]
  },
  {
   "cell_type": "markdown",
   "id": "3462e196",
   "metadata": {},
   "source": [
    "# 4.4 Orbital Elements and The State Vector"
   ]
  },
  {
   "cell_type": "markdown",
   "id": "4f3e3110",
   "metadata": {},
   "source": [
    "# 4.5 Coordinate Transformation"
   ]
  },
  {
   "cell_type": "markdown",
   "id": "386f6bef",
   "metadata": {},
   "source": [
    "# 4.6 Transformation between Geocentric Equatorial and Perifocal Frames"
   ]
  },
  {
   "cell_type": "markdown",
   "id": "5784036a",
   "metadata": {},
   "source": [
    "# 4.7 Effect of Earth's Oblateness"
   ]
  }
 ],
 "metadata": {
  "language_info": {
   "name": "python"
  }
 },
 "nbformat": 4,
 "nbformat_minor": 5
}
