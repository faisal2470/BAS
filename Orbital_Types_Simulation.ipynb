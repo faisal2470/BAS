{
 "cells": [
  {
   "cell_type": "markdown",
   "id": "092cd0bf",
   "metadata": {},
   "source": [
    "# Orbital Types Simulation in Python"
   ]
  },
  {
   "cell_type": "code",
   "execution_count": null,
   "id": "6448f877",
   "metadata": {},
   "outputs": [],
   "source": [
    "\n",
    "# Orbital Types Simulation with Poliastro\n",
    "\n",
    "# Install necessary packages (uncomment if not installed)\n",
    "# !pip install poliastro jupyter matplotlib astropy\n",
    "\n",
    "from astropy import units as u\n",
    "from poliastro.bodies import Earth\n",
    "from poliastro.twobody import Orbit\n",
    "from poliastro.plotting.static import StaticOrbitPlotter\n",
    "import matplotlib.pyplot as plt\n",
    "\n",
    "# Define altitudes for different orbit types\n",
    "leo_altitude = 500 * u.km\n",
    "meo_altitude = 20000 * u.km\n",
    "geo_altitude = 35786 * u.km\n",
    "\n",
    "# Create orbits\n",
    "leo_orbit = Orbit.circular(Earth, alt=leo_altitude)\n",
    "meo_orbit = Orbit.circular(Earth, alt=meo_altitude)\n",
    "geo_orbit = Orbit.circular(Earth, alt=geo_altitude, inc=0 * u.deg)\n",
    "\n",
    "# Plot orbits\n",
    "fig, ax = plt.subplots(figsize=(8, 8))\n",
    "plotter = StaticOrbitPlotter(ax)\n",
    "plotter.plot(leo_orbit, label=\"LEO (500 km)\")\n",
    "plotter.plot(meo_orbit, label=\"MEO (20,000 km)\")\n",
    "plotter.plot(geo_orbit, label=\"GEO (35,786 km)\")\n",
    "\n",
    "plt.legend()\n",
    "plt.title(\"Comparison of LEO, MEO and GEO Orbits\")\n",
    "plt.show()\n",
    "\n",
    "# Print basic orbit info\n",
    "print(f\"LEO period: {leo_orbit.period.to(u.minute):.2f}\")\n",
    "print(f\"MEO period: {meo_orbit.period.to(u.hour):.2f}\")\n",
    "print(f\"GEO period: {geo_orbit.period.to(u.hour):.2f}\")\n"
   ]
  }
 ],
 "metadata": {},
 "nbformat": 4,
 "nbformat_minor": 5
}
